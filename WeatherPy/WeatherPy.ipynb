{
 "cells": [
  {
   "cell_type": "markdown",
   "metadata": {},
   "source": [
    "# WeatherPy\n",
    "----\n",
    "\n",
    "#### Note\n",
    "* Instructions have been included for each segment. You do not have to follow them exactly, but they are included to help you think through the steps.\n",
    "------------------------------------------------------------------------------------------------------------------\n",
    "\n",
    "3 Overall Observable Trends for Part 1 (WeatherPy)\n",
    "----\n",
    "(I have already included separate observations after each plot)\n",
    "\n",
    "------------------------------------------------------------------------------------------------------------------\n",
    "TREND 1: \n",
    "----\n",
    "Although it makes sense logically, it was interesting to see graphically how strong the correlations were\n",
    "when comparing Temperature and Latitude within the Northern and Southern Hemispheres.\n",
    "\n",
    "There was a very strong NEGATIVE correlation when comparing Temp and Lat in the Northern Hempishere.. whereas..\n",
    "\n",
    "There was a strong/moderate Positive correlation when comparing Temp and Lat in the Southern Hemisphere...\n",
    "\n",
    "------------------------------------------------------------------------------------------------------------------\n",
    "TREND 2:\n",
    "----\n",
    "Wind speed was interesting in the sense that regardless of what latitude the city was in, the speeds seem to mostly cluser around 5-10mph in the NORTHERN Hemisphere...There was no clear directional correation as well.\n",
    "\n",
    "That being said, surprisingly there was a weak negative correlation between wind speed and latitude\n",
    "when looking at the SOUTHERN Hemisphere...\n",
    "\n",
    "------------------------------------------------------------------------------------------------------------------\n",
    "TREND 3:\n",
    "----\n",
    "\n",
    "Something interesting that I noticed was the surprisingly similar trends in Humidity vs. Latitude. \n",
    "One would think that the Southern Hemisphere would be more humid, however it was similar to that of the Northern one.....\n",
    "\n",
    "They are both correlated(weak) in the positive direction\n",
    "\n"
   ]
  },
  {
   "cell_type": "code",
   "execution_count": 1,
   "metadata": {
    "scrolled": true
   },
   "outputs": [],
   "source": [
    "# Import dependencies\n",
    "import pandas as pd\n",
    "import numpy as np\n",
    "import matplotlib.pyplot as plt\n",
    "import requests\n",
    "import time\n",
    "from citipy import citipy\n",
    "from api_keys import weather_api_key\n",
    "from api_keys import g_key\n",
    "from scipy.stats import linregress"
   ]
  },
  {
   "cell_type": "code",
   "execution_count": 2,
   "metadata": {},
   "outputs": [],
   "source": [
    "# Initiate variables and query address\n",
    "temp_type = \"imperial\"\n",
    "query_url = f\"http://api.openweathermap.org/data/2.5/weather?appid={weather_api_key}&units={temp_type}&q=\"\n",
    "\n",
    "# Set the range for lat and lon\n",
    "lat_range = (-90, 90)\n",
    "lon_range = (-180, 180)"
   ]
  },
  {
   "cell_type": "markdown",
   "metadata": {},
   "source": [
    "## Generate Cities List"
   ]
  },
  {
   "cell_type": "code",
   "execution_count": 3,
   "metadata": {},
   "outputs": [
    {
     "data": {
      "text/plain": [
       "611"
      ]
     },
     "execution_count": 3,
     "metadata": {},
     "output_type": "execute_result"
    }
   ],
   "source": [
    "# Create empty lists to store our data\n",
    "lat_lon_list = []\n",
    "cities_list = []\n",
    "\n",
    "# Creat a set of random lats and lons\n",
    "# use random.random or random.unifrom, one auto rounds and one doesnt\n",
    "latitude = np.random.uniform(low = -90, high = 90, size = 1500)\n",
    "longitude = np.random.uniform(low = -180, high = 180, size = 1500)\n",
    "\n",
    "# Zip both sets to your empty list\n",
    "lat_lon_list = zip(latitude, longitude)\n",
    "\n",
    "# Create loop to add random coordinates and cities to their lists\n",
    "# Look up citipy documentation\n",
    "for x in lat_lon_list:\n",
    "    city = citipy.nearest_city(x[0], x[1]).city_name\n",
    "    \n",
    "    if city not in cities_list:\n",
    "        cities_list.append(city)\n",
    "        \n",
    "len(cities_list)"
   ]
  },
  {
   "cell_type": "markdown",
   "metadata": {},
   "source": [
    "### Perform API Calls\n",
    "* Perform a weather check on each city using a series of successive API calls.\n",
    "* Include a print log of each city as it'sbeing processed (with the city number and city name).\n"
   ]
  },
  {
   "cell_type": "code",
   "execution_count": 4,
   "metadata": {
    "scrolled": true
   },
   "outputs": [
    {
     "name": "stdout",
     "output_type": "stream",
     "text": [
      "Processing record number 1 in set number 1 | kosh-agach\n",
      "Processing record number 2 in set number 1 | atuona\n",
      "Processing record number 3 in set number 1 | albany\n",
      "Processing record number 4 in set number 1 | hermanus\n",
      "Processing record number 5 in set number 1 | sao filipe\n",
      "City not found. Skipping...\n",
      "City not found. Skipping...\n",
      "Processing record number 6 in set number 1 | rikitea\n",
      "City not found. Skipping...\n",
      "Processing record number 7 in set number 1 | avarua\n",
      "City not found. Skipping...\n",
      "Processing record number 8 in set number 1 | ahipara\n",
      "Processing record number 9 in set number 1 | nanortalik\n",
      "Processing record number 10 in set number 1 | port alfred\n",
      "Processing record number 11 in set number 1 | vardo\n",
      "Processing record number 12 in set number 1 | kapaa\n",
      "Processing record number 13 in set number 1 | ajdabiya\n",
      "Processing record number 14 in set number 1 | chokurdakh\n",
      "Processing record number 15 in set number 1 | port elizabeth\n",
      "Processing record number 16 in set number 1 | vaini\n",
      "Processing record number 17 in set number 1 | tual\n",
      "Processing record number 18 in set number 1 | soanierana ivongo\n",
      "Processing record number 19 in set number 1 | araouane\n",
      "Processing record number 20 in set number 1 | hithadhoo\n",
      "Processing record number 21 in set number 1 | punta arenas\n",
      "City not found. Skipping...\n",
      "City not found. Skipping...\n",
      "Processing record number 22 in set number 1 | puerto ayora\n",
      "Processing record number 23 in set number 1 | mataura\n",
      "Processing record number 24 in set number 1 | kahului\n",
      "Processing record number 25 in set number 1 | mindelo\n",
      "Processing record number 26 in set number 1 | chapais\n",
      "Processing record number 27 in set number 1 | qaanaaq\n",
      "Processing record number 28 in set number 1 | tuktoyaktuk\n",
      "Processing record number 29 in set number 1 | dingle\n",
      "Processing record number 30 in set number 1 | cockburn town\n",
      "Processing record number 31 in set number 1 | hobart\n",
      "Processing record number 32 in set number 1 | mathbaria\n",
      "Processing record number 33 in set number 1 | upernavik\n",
      "Processing record number 34 in set number 1 | dalby\n",
      "Processing record number 35 in set number 1 | cabo san lucas\n",
      "Processing record number 36 in set number 1 | puerto escondido\n",
      "Processing record number 37 in set number 1 | ushuaia\n",
      "Processing record number 38 in set number 1 | alofi\n",
      "Processing record number 39 in set number 1 | qixia\n",
      "Processing record number 40 in set number 1 | darnah\n",
      "Processing record number 41 in set number 1 | provideniya\n",
      "Processing record number 42 in set number 1 | khakhea\n",
      "City not found. Skipping...\n",
      "Processing record number 43 in set number 1 | busselton\n",
      "Processing record number 44 in set number 1 | kodiak\n",
      "Processing record number 45 in set number 1 | puerto del rosario\n",
      "Processing record number 46 in set number 1 | labuhan\n",
      "Processing record number 47 in set number 1 | shenjiamen\n",
      "Processing record number 48 in set number 1 | murray bridge\n",
      "Processing record number 49 in set number 1 | longyearbyen\n",
      "Processing record number 1 in set number 2 | barrow\n",
      "Processing record number 2 in set number 2 | talaya\n",
      "Processing record number 3 in set number 2 | lagoa\n",
      "Processing record number 4 in set number 2 | aklavik\n",
      "City not found. Skipping...\n",
      "Processing record number 5 in set number 2 | pisco\n",
      "Processing record number 6 in set number 2 | ust-maya\n",
      "Processing record number 7 in set number 2 | samdrup jongkhar\n",
      "Processing record number 8 in set number 2 | jamestown\n",
      "Processing record number 9 in set number 2 | port hardy\n",
      "Processing record number 10 in set number 2 | georgetown\n",
      "Processing record number 11 in set number 2 | flin flon\n",
      "Processing record number 12 in set number 2 | marystown\n",
      "Processing record number 13 in set number 2 | cibeureum\n",
      "Processing record number 14 in set number 2 | new norfolk\n",
      "Processing record number 15 in set number 2 | castro\n",
      "Processing record number 16 in set number 2 | taldan\n",
      "Processing record number 17 in set number 2 | port lincoln\n",
      "Processing record number 18 in set number 2 | malmesbury\n",
      "Processing record number 19 in set number 2 | roebourne\n",
      "Processing record number 20 in set number 2 | conceicao do araguaia\n",
      "Processing record number 21 in set number 2 | kavaratti\n",
      "Processing record number 22 in set number 2 | roma\n",
      "Processing record number 23 in set number 2 | kamyshin\n",
      "Processing record number 24 in set number 2 | atambua\n",
      "Processing record number 25 in set number 2 | talnakh\n",
      "Processing record number 26 in set number 2 | sao joao da barra\n",
      "Processing record number 27 in set number 2 | faanui\n",
      "Processing record number 28 in set number 2 | norton shores\n",
      "Processing record number 29 in set number 2 | ixtapa\n",
      "Processing record number 30 in set number 2 | berlevag\n",
      "Processing record number 31 in set number 2 | raga\n",
      "City not found. Skipping...\n",
      "Processing record number 32 in set number 2 | margate\n",
      "City not found. Skipping...\n",
      "Processing record number 33 in set number 2 | diego de almagro\n",
      "Processing record number 34 in set number 2 | avera\n",
      "Processing record number 35 in set number 2 | cherskiy\n",
      "Processing record number 36 in set number 2 | erdenet\n",
      "Processing record number 37 in set number 2 | severo-kurilsk\n",
      "Processing record number 38 in set number 2 | petrolina\n",
      "Processing record number 39 in set number 2 | rivadavia\n",
      "Processing record number 40 in set number 2 | tarakan\n",
      "Processing record number 41 in set number 2 | faya\n",
      "Processing record number 42 in set number 2 | ginir\n",
      "Processing record number 43 in set number 2 | vestmannaeyjar\n",
      "Processing record number 44 in set number 2 | paris\n",
      "Processing record number 45 in set number 2 | sitka\n",
      "Processing record number 46 in set number 2 | tuy hoa\n",
      "Processing record number 47 in set number 2 | kavieng\n",
      "Processing record number 48 in set number 2 | guapiacu\n",
      "Processing record number 49 in set number 2 | cape town\n",
      "Processing record number 1 in set number 3 | yellowknife\n",
      "Processing record number 2 in set number 3 | kruisfontein\n",
      "Processing record number 3 in set number 3 | maningrida\n",
      "Processing record number 4 in set number 3 | asau\n",
      "Processing record number 5 in set number 3 | hilo\n",
      "Processing record number 6 in set number 3 | monte patria\n",
      "Processing record number 7 in set number 3 | sarny\n",
      "Processing record number 8 in set number 3 | ishigaki\n",
      "Processing record number 9 in set number 3 | zabol\n",
      "Processing record number 10 in set number 3 | altamont\n",
      "City not found. Skipping...\n",
      "City not found. Skipping...\n",
      "Processing record number 11 in set number 3 | washington\n",
      "City not found. Skipping...\n",
      "Processing record number 12 in set number 3 | san vicente\n",
      "Processing record number 13 in set number 3 | santa isabel do rio negro\n",
      "Processing record number 14 in set number 3 | ola\n",
      "Processing record number 15 in set number 3 | narsaq\n",
      "Processing record number 16 in set number 3 | hasaki\n",
      "Processing record number 17 in set number 3 | toora-khem\n",
      "Processing record number 18 in set number 3 | riyadh\n",
      "Processing record number 19 in set number 3 | calabozo\n",
      "Processing record number 20 in set number 3 | semirom\n",
      "Processing record number 21 in set number 3 | zhongxing\n",
      "Processing record number 22 in set number 3 | pangnirtung\n",
      "Processing record number 23 in set number 3 | arraial do cabo\n",
      "Processing record number 24 in set number 3 | mbandaka\n",
      "Processing record number 25 in set number 3 | evensk\n",
      "Processing record number 26 in set number 3 | bluff\n",
      "Processing record number 27 in set number 3 | vangazi\n",
      "Processing record number 28 in set number 3 | airai\n",
      "Processing record number 29 in set number 3 | saint george\n",
      "Processing record number 30 in set number 3 | ostrovnoy\n",
      "Processing record number 31 in set number 3 | te anau\n",
      "Processing record number 32 in set number 3 | gidole\n",
      "Processing record number 33 in set number 3 | honiara\n",
      "Processing record number 34 in set number 3 | bethel\n",
      "Processing record number 35 in set number 3 | san cristobal\n",
      "City not found. Skipping...\n",
      "Processing record number 36 in set number 3 | dunedin\n",
      "Processing record number 37 in set number 3 | san patricio\n",
      "Processing record number 38 in set number 3 | buraydah\n",
      "Processing record number 39 in set number 3 | zhigansk\n",
      "Processing record number 40 in set number 3 | east london\n",
      "Processing record number 41 in set number 3 | isangel\n",
      "Processing record number 42 in set number 3 | laguna\n",
      "Processing record number 43 in set number 3 | werda\n"
     ]
    },
    {
     "name": "stdout",
     "output_type": "stream",
     "text": [
      "Processing record number 44 in set number 3 | mananjary\n",
      "Processing record number 45 in set number 3 | mahebourg\n",
      "Processing record number 46 in set number 3 | zeerust\n",
      "Processing record number 47 in set number 3 | acapulco\n",
      "Processing record number 48 in set number 3 | rabo de peixe\n",
      "Processing record number 49 in set number 3 | grand forks\n",
      "Processing record number 1 in set number 4 | palmer\n",
      "Processing record number 2 in set number 4 | yantal\n",
      "Processing record number 3 in set number 4 | saint-philippe\n",
      "Processing record number 4 in set number 4 | ascoli piceno\n",
      "Processing record number 5 in set number 4 | waipawa\n",
      "Processing record number 6 in set number 4 | bac lieu\n",
      "Processing record number 7 in set number 4 | sarab\n",
      "City not found. Skipping...\n",
      "Processing record number 8 in set number 4 | manbij\n",
      "Processing record number 9 in set number 4 | schkeuditz\n",
      "Processing record number 10 in set number 4 | rocha\n",
      "City not found. Skipping...\n",
      "Processing record number 11 in set number 4 | poum\n",
      "Processing record number 12 in set number 4 | bubaque\n",
      "Processing record number 13 in set number 4 | itoman\n",
      "Processing record number 14 in set number 4 | chifeng\n",
      "Processing record number 15 in set number 4 | erenhot\n",
      "Processing record number 16 in set number 4 | cabedelo\n",
      "Processing record number 17 in set number 4 | sturgis\n",
      "Processing record number 18 in set number 4 | boa vista\n",
      "Processing record number 19 in set number 4 | puerto varas\n",
      "Processing record number 20 in set number 4 | kudahuvadhoo\n",
      "Processing record number 21 in set number 4 | brae\n",
      "Processing record number 22 in set number 4 | kachiry\n",
      "Processing record number 23 in set number 4 | ati\n",
      "Processing record number 24 in set number 4 | pudozh\n",
      "City not found. Skipping...\n",
      "Processing record number 25 in set number 4 | coquimbo\n",
      "Processing record number 26 in set number 4 | umm bab\n",
      "Processing record number 27 in set number 4 | wanaka\n",
      "Processing record number 28 in set number 4 | lompoc\n",
      "Processing record number 29 in set number 4 | port macquarie\n",
      "Processing record number 30 in set number 4 | sambava\n",
      "Processing record number 31 in set number 4 | mahibadhoo\n",
      "Processing record number 32 in set number 4 | bengkulu\n",
      "Processing record number 33 in set number 4 | pochutla\n",
      "Processing record number 34 in set number 4 | okha\n",
      "Processing record number 35 in set number 4 | gat\n",
      "Processing record number 36 in set number 4 | hovd\n",
      "Processing record number 37 in set number 4 | nueva gerona\n",
      "Processing record number 38 in set number 4 | deputatskiy\n",
      "Processing record number 39 in set number 4 | clyde river\n",
      "Processing record number 40 in set number 4 | kenora\n",
      "Processing record number 41 in set number 4 | saint-joseph\n",
      "Processing record number 42 in set number 4 | cidreira\n",
      "Processing record number 43 in set number 4 | nouadhibou\n",
      "Processing record number 44 in set number 4 | ladario\n",
      "Processing record number 45 in set number 4 | ponta do sol\n",
      "Processing record number 46 in set number 4 | norman wells\n",
      "Processing record number 47 in set number 4 | naryan-mar\n",
      "Processing record number 48 in set number 4 | volzhsk\n",
      "Processing record number 49 in set number 4 | nikolskoye\n",
      "Processing record number 1 in set number 5 | ankazoabo\n",
      "Processing record number 2 in set number 5 | bambous virieux\n",
      "Processing record number 3 in set number 5 | ca mau\n",
      "Processing record number 4 in set number 5 | trairi\n",
      "Processing record number 5 in set number 5 | mar del plata\n",
      "Processing record number 6 in set number 5 | antalaha\n",
      "Processing record number 7 in set number 5 | lavrentiya\n",
      "Processing record number 8 in set number 5 | azuqueca de henares\n",
      "Processing record number 9 in set number 5 | jaisalmer\n",
      "Processing record number 10 in set number 5 | ilulissat\n",
      "Processing record number 11 in set number 5 | tromso\n",
      "Processing record number 12 in set number 5 | naze\n",
      "Processing record number 13 in set number 5 | kamiiso\n",
      "Processing record number 14 in set number 5 | singaraja\n",
      "Processing record number 15 in set number 5 | port blair\n",
      "Processing record number 16 in set number 5 | bathsheba\n",
      "Processing record number 17 in set number 5 | harper\n",
      "Processing record number 18 in set number 5 | kirando\n",
      "Processing record number 19 in set number 5 | torbay\n",
      "Processing record number 20 in set number 5 | salta\n",
      "City not found. Skipping...\n",
      "Processing record number 21 in set number 5 | svetlyy\n",
      "Processing record number 22 in set number 5 | antofagasta\n",
      "Processing record number 23 in set number 5 | presidente medici\n",
      "Processing record number 24 in set number 5 | rio grande\n",
      "Processing record number 25 in set number 5 | karratha\n",
      "Processing record number 26 in set number 5 | potsdam\n",
      "Processing record number 27 in set number 5 | saskylakh\n",
      "Processing record number 28 in set number 5 | pevek\n",
      "Processing record number 29 in set number 5 | beloha\n",
      "Processing record number 30 in set number 5 | ancud\n",
      "Processing record number 31 in set number 5 | petropavlovsk-kamchatskiy\n",
      "Processing record number 32 in set number 5 | srednekolymsk\n",
      "Processing record number 33 in set number 5 | yulara\n",
      "Processing record number 34 in set number 5 | geraldton\n",
      "Processing record number 35 in set number 5 | vlasotince\n",
      "City not found. Skipping...\n",
      "Processing record number 36 in set number 5 | orangeburg\n",
      "Processing record number 37 in set number 5 | ullapool\n",
      "Processing record number 38 in set number 5 | hailar\n",
      "Processing record number 39 in set number 5 | iqaluit\n",
      "Processing record number 40 in set number 5 | byron bay\n",
      "Processing record number 41 in set number 5 | butaritari\n",
      "Processing record number 42 in set number 5 | jaguarao\n",
      "Processing record number 43 in set number 5 | barra do garcas\n",
      "City not found. Skipping...\n",
      "Processing record number 44 in set number 5 | odessa\n",
      "Processing record number 45 in set number 5 | maceio\n",
      "Processing record number 46 in set number 5 | mango\n",
      "Processing record number 47 in set number 5 | nacala\n",
      "Processing record number 48 in set number 5 | ribeira grande\n",
      "City not found. Skipping...\n",
      "City not found. Skipping...\n",
      "Processing record number 49 in set number 5 | hoopstad\n",
      "Processing record number 1 in set number 6 | nome\n",
      "Processing record number 2 in set number 6 | sola\n",
      "Processing record number 3 in set number 6 | nantucket\n",
      "Processing record number 4 in set number 6 | charters towers\n",
      "Processing record number 5 in set number 6 | haines junction\n",
      "Processing record number 6 in set number 6 | coos bay\n",
      "Processing record number 7 in set number 6 | huarmey\n",
      "Processing record number 8 in set number 6 | shelburne\n",
      "Processing record number 9 in set number 6 | beringovskiy\n",
      "Processing record number 10 in set number 6 | saldanha\n",
      "Processing record number 11 in set number 6 | north branch\n",
      "Processing record number 12 in set number 6 | saint-francois\n",
      "Processing record number 13 in set number 6 | warrington\n",
      "Processing record number 14 in set number 6 | khandyga\n",
      "Processing record number 15 in set number 6 | santa comba\n",
      "Processing record number 16 in set number 6 | katsuura\n",
      "Processing record number 17 in set number 6 | sinnamary\n",
      "Processing record number 18 in set number 6 | erzin\n",
      "Processing record number 19 in set number 6 | dalaba\n",
      "Processing record number 20 in set number 6 | teguldet\n",
      "Processing record number 21 in set number 6 | klaksvik\n",
      "Processing record number 22 in set number 6 | guerrero negro\n",
      "Processing record number 23 in set number 6 | dikson\n",
      "Processing record number 24 in set number 6 | turinsk\n",
      "Processing record number 25 in set number 6 | henties bay\n",
      "City not found. Skipping...\n",
      "Processing record number 26 in set number 6 | ranapur\n",
      "Processing record number 27 in set number 6 | tiksi\n",
      "Processing record number 28 in set number 6 | makakilo city\n",
      "Processing record number 29 in set number 6 | hammelburg\n",
      "Processing record number 30 in set number 6 | bosaso\n",
      "City not found. Skipping...\n",
      "Processing record number 31 in set number 6 | wanning\n",
      "Processing record number 32 in set number 6 | bam\n",
      "City not found. Skipping...\n",
      "Processing record number 33 in set number 6 | along\n",
      "Processing record number 34 in set number 6 | madinat sittah uktubar\n",
      "Processing record number 35 in set number 6 | oranjemund\n",
      "Processing record number 36 in set number 6 | kovdor\n",
      "Processing record number 37 in set number 6 | banda aceh\n",
      "City not found. Skipping...\n",
      "City not found. Skipping...\n",
      "Processing record number 38 in set number 6 | chuy\n"
     ]
    },
    {
     "name": "stdout",
     "output_type": "stream",
     "text": [
      "Processing record number 39 in set number 6 | beipiao\n",
      "Processing record number 40 in set number 6 | verkhnyaya inta\n",
      "Processing record number 41 in set number 6 | romanovo\n",
      "Processing record number 42 in set number 6 | karachi\n",
      "Processing record number 43 in set number 6 | marsa matruh\n",
      "Processing record number 44 in set number 6 | ayan\n",
      "Processing record number 45 in set number 6 | manggar\n",
      "Processing record number 46 in set number 6 | saint anthony\n",
      "Processing record number 47 in set number 6 | mount gambier\n",
      "Processing record number 48 in set number 6 | yining\n",
      "Processing record number 49 in set number 6 | sabha\n",
      "Processing record number 1 in set number 7 | quelimane\n",
      "Processing record number 2 in set number 7 | kloulklubed\n",
      "Processing record number 3 in set number 7 | ouadda\n",
      "City not found. Skipping...\n",
      "Processing record number 4 in set number 7 | alexandria\n",
      "Processing record number 5 in set number 7 | esperance\n",
      "Processing record number 6 in set number 7 | nosy varika\n",
      "Processing record number 7 in set number 7 | vernon\n",
      "Processing record number 8 in set number 7 | maubin\n",
      "Processing record number 9 in set number 7 | bolitoc\n",
      "Processing record number 10 in set number 7 | codrington\n",
      "Processing record number 11 in set number 7 | ipixuna\n",
      "Processing record number 12 in set number 7 | tongliao\n",
      "Processing record number 13 in set number 7 | high level\n",
      "Processing record number 14 in set number 7 | tupik\n",
      "Processing record number 15 in set number 7 | kontagora\n",
      "Processing record number 16 in set number 7 | khatanga\n",
      "Processing record number 17 in set number 7 | urumqi\n",
      "Processing record number 18 in set number 7 | sartell\n",
      "Processing record number 19 in set number 7 | bredasdorp\n",
      "Processing record number 20 in set number 7 | sumbe\n",
      "Processing record number 21 in set number 7 | aksu\n",
      "City not found. Skipping...\n",
      "Processing record number 22 in set number 7 | batagay\n",
      "Processing record number 23 in set number 7 | marsabit\n",
      "Processing record number 24 in set number 7 | orapa\n",
      "Processing record number 25 in set number 7 | tuburan\n",
      "Processing record number 26 in set number 7 | maumere\n",
      "Processing record number 27 in set number 7 | kulhudhuffushi\n",
      "City not found. Skipping...\n",
      "Processing record number 28 in set number 7 | tezu\n",
      "Processing record number 29 in set number 7 | vanimo\n",
      "Processing record number 30 in set number 7 | fez\n",
      "Processing record number 31 in set number 7 | luderitz\n",
      "Processing record number 32 in set number 7 | polunochnoye\n",
      "Processing record number 33 in set number 7 | viedma\n",
      "Processing record number 34 in set number 7 | najran\n",
      "City not found. Skipping...\n",
      "Processing record number 35 in set number 7 | rizhao\n",
      "City not found. Skipping...\n",
      "Processing record number 36 in set number 7 | flinders\n",
      "Processing record number 37 in set number 7 | moindou\n",
      "Processing record number 38 in set number 7 | kiruna\n",
      "Processing record number 39 in set number 7 | howard springs\n",
      "Processing record number 40 in set number 7 | cayenne\n",
      "Processing record number 41 in set number 7 | yumen\n",
      "Processing record number 42 in set number 7 | catio\n",
      "Processing record number 43 in set number 7 | independence\n",
      "Processing record number 44 in set number 7 | tasiilaq\n",
      "Processing record number 45 in set number 7 | naples park\n",
      "Processing record number 46 in set number 7 | glasgow\n",
      "Processing record number 47 in set number 7 | yar-sale\n",
      "Processing record number 48 in set number 7 | sao miguel\n",
      "Processing record number 49 in set number 7 | gigmoto\n",
      "Processing record number 1 in set number 8 | ponta delgada\n",
      "Processing record number 2 in set number 8 | belaya gora\n",
      "Processing record number 3 in set number 8 | souillac\n",
      "Processing record number 4 in set number 8 | husavik\n",
      "Processing record number 5 in set number 8 | ebbw vale\n",
      "City not found. Skipping...\n",
      "Processing record number 6 in set number 8 | vila franca do campo\n",
      "Processing record number 7 in set number 8 | litovko\n",
      "Processing record number 8 in set number 8 | ovalle\n",
      "Processing record number 9 in set number 8 | ardakan\n",
      "Processing record number 10 in set number 8 | ambon\n",
      "Processing record number 11 in set number 8 | rawah\n",
      "Processing record number 12 in set number 8 | saquarema\n",
      "Processing record number 13 in set number 8 | sur\n",
      "Processing record number 14 in set number 8 | sao jose da coroa grande\n",
      "Processing record number 15 in set number 8 | okhotsk\n",
      "Processing record number 16 in set number 8 | beyneu\n",
      "Processing record number 17 in set number 8 | matagami\n",
      "Processing record number 18 in set number 8 | kabare\n",
      "Processing record number 19 in set number 8 | baykit\n",
      "Processing record number 20 in set number 8 | carnarvon\n",
      "Processing record number 21 in set number 8 | coihaique\n",
      "City not found. Skipping...\n",
      "Processing record number 22 in set number 8 | rio verde de mato grosso\n",
      "Processing record number 23 in set number 8 | freeport\n",
      "Processing record number 24 in set number 8 | gdov\n",
      "Processing record number 25 in set number 8 | namibe\n",
      "Processing record number 26 in set number 8 | porto novo\n",
      "Processing record number 27 in set number 8 | sabya\n",
      "Processing record number 28 in set number 8 | kirakira\n",
      "Processing record number 29 in set number 8 | north bend\n",
      "Processing record number 30 in set number 8 | nadym\n",
      "Processing record number 31 in set number 8 | iskateley\n",
      "Processing record number 32 in set number 8 | dillon\n",
      "Processing record number 33 in set number 8 | alice springs\n",
      "Processing record number 34 in set number 8 | kinkala\n",
      "Processing record number 35 in set number 8 | rawson\n",
      "Processing record number 36 in set number 8 | acajutla\n",
      "City not found. Skipping...\n",
      "Processing record number 37 in set number 8 | marawi\n",
      "Processing record number 38 in set number 8 | san policarpo\n",
      "Processing record number 39 in set number 8 | aswan\n",
      "Processing record number 40 in set number 8 | talcahuano\n",
      "Processing record number 41 in set number 8 | bandarbeyla\n",
      "Processing record number 42 in set number 8 | umtata\n",
      "Processing record number 43 in set number 8 | chor\n",
      "Processing record number 44 in set number 8 | nanticoke\n",
      "Processing record number 45 in set number 8 | buala\n",
      "Processing record number 46 in set number 8 | porto empedocle\n",
      "Processing record number 47 in set number 8 | chumikan\n",
      "City not found. Skipping...\n",
      "Processing record number 48 in set number 8 | kashan\n",
      "Processing record number 49 in set number 8 | thompson\n",
      "City not found. Skipping...\n",
      "Processing record number 1 in set number 9 | koson\n",
      "Processing record number 2 in set number 9 | batemans bay\n",
      "Processing record number 3 in set number 9 | limenaria\n",
      "Processing record number 4 in set number 9 | muros\n",
      "Processing record number 5 in set number 9 | bauchi\n",
      "Processing record number 6 in set number 9 | santiago\n",
      "Processing record number 7 in set number 9 | ulladulla\n",
      "Processing record number 8 in set number 9 | zhireken\n",
      "Processing record number 9 in set number 9 | plettenberg bay\n",
      "Processing record number 10 in set number 9 | shamary\n",
      "City not found. Skipping...\n",
      "Processing record number 11 in set number 9 | lorengau\n",
      "Processing record number 12 in set number 9 | coari\n",
      "Processing record number 13 in set number 9 | yarkovo\n",
      "Processing record number 14 in set number 9 | grindavik\n",
      "Processing record number 15 in set number 9 | kostyantynivka\n",
      "Processing record number 16 in set number 9 | lebu\n",
      "Processing record number 17 in set number 9 | leningradskiy\n",
      "Processing record number 18 in set number 9 | tiep\n",
      "Processing record number 19 in set number 9 | charleston\n",
      "Processing record number 20 in set number 9 | victoria\n",
      "City not found. Skipping...\n",
      "Processing record number 21 in set number 9 | manokwari\n",
      "Processing record number 22 in set number 9 | moose factory\n",
      "Processing record number 23 in set number 9 | los llanos de aridane\n",
      "Processing record number 24 in set number 9 | sorata\n",
      "Processing record number 25 in set number 9 | san quintin\n",
      "Processing record number 26 in set number 9 | taltal\n",
      "Processing record number 27 in set number 9 | basco\n",
      "Processing record number 28 in set number 9 | salalah\n",
      "Processing record number 29 in set number 9 | cabanas\n",
      "Processing record number 30 in set number 9 | oksfjord\n",
      "Processing record number 31 in set number 9 | lao cai\n",
      "Processing record number 32 in set number 9 | sikandra rao\n",
      "Processing record number 33 in set number 9 | port hedland\n",
      "Processing record number 34 in set number 9 | plouzane\n"
     ]
    },
    {
     "name": "stdout",
     "output_type": "stream",
     "text": [
      "Processing record number 35 in set number 9 | thaba-tseka\n",
      "Processing record number 36 in set number 9 | tari\n",
      "Processing record number 37 in set number 9 | nabire\n",
      "Processing record number 38 in set number 9 | fortuna\n",
      "Processing record number 39 in set number 9 | tura\n",
      "Processing record number 40 in set number 9 | billings\n",
      "Processing record number 41 in set number 9 | poroshkovo\n",
      "City not found. Skipping...\n",
      "Processing record number 42 in set number 9 | mayya\n",
      "Processing record number 43 in set number 9 | killybegs\n",
      "Processing record number 44 in set number 9 | kranjska gora\n",
      "Processing record number 45 in set number 9 | juneau\n",
      "Processing record number 46 in set number 9 | batticaloa\n",
      "Processing record number 47 in set number 9 | aktash\n",
      "Processing record number 48 in set number 9 | hokitika\n",
      "Processing record number 49 in set number 9 | caxito\n",
      "Processing record number 1 in set number 10 | phuket\n",
      "Processing record number 2 in set number 10 | meulaboh\n",
      "Processing record number 3 in set number 10 | winnemucca\n",
      "Processing record number 4 in set number 10 | moyobamba\n",
      "Processing record number 5 in set number 10 | shakawe\n",
      "Processing record number 6 in set number 10 | havre\n",
      "City not found. Skipping...\n",
      "Processing record number 7 in set number 10 | kinsale\n",
      "Processing record number 8 in set number 10 | praia da vitoria\n",
      "Processing record number 9 in set number 10 | buin\n",
      "Processing record number 10 in set number 10 | mitsamiouli\n",
      "Processing record number 11 in set number 10 | bonavista\n",
      "Processing record number 12 in set number 10 | acarau\n",
      "Processing record number 13 in set number 10 | port-cartier\n",
      "Processing record number 14 in set number 10 | zalari\n",
      "City not found. Skipping...\n",
      "Processing record number 15 in set number 10 | komsomolskiy\n",
      "Processing record number 16 in set number 10 | yelets\n",
      "Processing record number 17 in set number 10 | kautokeino\n",
      "Processing record number 18 in set number 10 | broome\n",
      "Processing record number 19 in set number 10 | likasi\n",
      "City not found. Skipping...\n",
      "Processing record number 20 in set number 10 | kandrian\n",
      "Processing record number 21 in set number 10 | palm coast\n",
      "Processing record number 22 in set number 10 | ilhabela\n",
      "Processing record number 23 in set number 10 | aranos\n",
      "City not found. Skipping...\n",
      "Processing record number 24 in set number 10 | chicama\n",
      "Processing record number 25 in set number 10 | parambu\n",
      "Processing record number 26 in set number 10 | chernyshevskiy\n",
      "Processing record number 27 in set number 10 | sand springs\n",
      "City not found. Skipping...\n",
      "Processing record number 28 in set number 10 | gulu\n",
      "City not found. Skipping...\n",
      "Processing record number 29 in set number 10 | hurricane\n",
      "Processing record number 30 in set number 10 | fort nelson\n",
      "Processing record number 31 in set number 10 | dubbo\n",
      "Processing record number 32 in set number 10 | ridgecrest\n",
      "Processing record number 33 in set number 10 | miandrivazo\n",
      "Processing record number 34 in set number 10 | krabi\n",
      "Processing record number 35 in set number 10 | maxixe\n",
      "Processing record number 36 in set number 10 | grafton\n",
      "Processing record number 37 in set number 10 | bestobe\n",
      "Processing record number 38 in set number 10 | tautira\n",
      "Processing record number 39 in set number 10 | preobrazheniye\n",
      "Processing record number 40 in set number 10 | inirida\n",
      "Processing record number 41 in set number 10 | suhbaatar\n",
      "Processing record number 42 in set number 10 | eruwa\n",
      "City not found. Skipping...\n",
      "Processing record number 43 in set number 10 | shimoda\n",
      "Processing record number 44 in set number 10 | shingu\n",
      "Processing record number 45 in set number 10 | buarcos\n",
      "Processing record number 46 in set number 10 | terrace\n",
      "Processing record number 47 in set number 10 | kanye\n",
      "Processing record number 48 in set number 10 | bayanday\n",
      "Processing record number 49 in set number 10 | shakhtinsk\n",
      "Processing record number 1 in set number 11 | kaitangata\n",
      "Processing record number 2 in set number 11 | ulaangom\n",
      "City not found. Skipping...\n",
      "Processing record number 3 in set number 11 | kaeo\n",
      "Processing record number 4 in set number 11 | ust-tsilma\n",
      "Processing record number 5 in set number 11 | vanino\n",
      "Processing record number 6 in set number 11 | dovolnoye\n",
      "Processing record number 7 in set number 11 | kushima\n",
      "Processing record number 8 in set number 11 | cafarnaum\n",
      "Processing record number 9 in set number 11 | koumac\n",
      "Processing record number 10 in set number 11 | buchanan\n",
      "Processing record number 11 in set number 11 | barabai\n",
      "Processing record number 12 in set number 11 | westport\n",
      "Processing record number 13 in set number 11 | derzhavinsk\n",
      "Processing record number 14 in set number 11 | kiri buru\n",
      "Processing record number 15 in set number 11 | imbituba\n",
      "Processing record number 16 in set number 11 | lakatoro\n",
      "City not found. Skipping...\n",
      "Processing record number 17 in set number 11 | linaon\n",
      "Processing record number 18 in set number 11 | yanam\n",
      "City not found. Skipping...\n",
      "Processing record number 19 in set number 11 | thayetmyo\n",
      "Processing record number 20 in set number 11 | calvia\n",
      "Processing record number 21 in set number 11 | klamath falls\n",
      "Processing record number 22 in set number 11 | darhan\n",
      "Processing record number 23 in set number 11 | samarai\n",
      "Processing record number 24 in set number 11 | port arthur\n",
      "Processing record number 25 in set number 11 | myaundzha\n",
      "Processing record number 26 in set number 11 | luoyang\n",
      "Processing record number 27 in set number 11 | sloboda\n",
      "Processing record number 28 in set number 11 | tiznit\n",
      "Processing record number 29 in set number 11 | lozuvatka\n",
      "Processing record number 30 in set number 11 | kaitong\n",
      "Processing record number 31 in set number 11 | gladstone\n",
      "Processing record number 32 in set number 11 | sindal\n",
      "Processing record number 33 in set number 11 | fowa\n",
      "Processing record number 34 in set number 11 | olhao\n",
      "Processing record number 35 in set number 11 | udachnyy\n",
      "Processing record number 36 in set number 11 | bonthe\n",
      "Processing record number 37 in set number 11 | villa carlos paz\n",
      "Processing record number 38 in set number 11 | kutum\n",
      "Processing record number 39 in set number 11 | cerrito\n",
      "Processing record number 40 in set number 11 | libertador general san martin\n",
      "Processing record number 41 in set number 11 | finschhafen\n",
      "Processing record number 42 in set number 11 | talara\n",
      "Processing record number 43 in set number 11 | xapuri\n",
      "Processing record number 44 in set number 11 | banfora\n",
      "Processing record number 45 in set number 11 | idritsa\n",
      "Processing record number 46 in set number 11 | alcaudete\n",
      "Processing record number 47 in set number 11 | loukhi\n",
      "Processing record number 48 in set number 11 | shklo\n",
      "Processing record number 49 in set number 11 | panama city\n",
      "Processing record number 1 in set number 12 | prince rupert\n",
      "Processing record number 2 in set number 12 | jalu\n",
      "Processing record number 3 in set number 12 | irbeyskoye\n",
      "Processing record number 4 in set number 12 | walvis bay\n",
      "Processing record number 5 in set number 12 | kieta\n",
      "Processing record number 6 in set number 12 | bilma\n",
      "Processing record number 7 in set number 12 | port antonio\n",
      "Processing record number 8 in set number 12 | ribeira brava\n",
      "Processing record number 9 in set number 12 | buloh kasap\n",
      "Processing record number 10 in set number 12 | kathu\n",
      "Processing record number 11 in set number 12 | kingseat\n",
      "Processing record number 12 in set number 12 | bealanana\n",
      "Processing record number 13 in set number 12 | bilibino\n",
      "Processing record number 14 in set number 12 | normandin\n",
      "Processing record number 15 in set number 12 | pontes e lacerda\n",
      "Processing record number 16 in set number 12 | kholm\n",
      "Processing record number 17 in set number 12 | boras\n",
      "Processing record number 18 in set number 12 | touros\n",
      "Processing record number 19 in set number 12 | visby\n",
      "Processing record number 20 in set number 12 | senneterre\n",
      "Processing record number 21 in set number 12 | paamiut\n",
      "Processing record number 22 in set number 12 | zacualtipan\n"
     ]
    }
   ],
   "source": [
    "# Create empty lists for each data set\n",
    "city_name = []\n",
    "lat = []\n",
    "lng = []\n",
    "max_temp = []\n",
    "humidity = []\n",
    "cloudiness = []\n",
    "wind_speed = []\n",
    "country = []\n",
    "date = []\n",
    "\n",
    "# Start the counters\n",
    "records = 0\n",
    "sets = 1\n",
    "\n",
    "# loop through response data\n",
    "# Use the try and except error handling\n",
    "for city in cities_list:\n",
    "    try:\n",
    "        # API Call\n",
    "        response = requests.get(query_url + city).json()\n",
    "        \n",
    "        # Apeend all those empty lists with data from loop\n",
    "        lat.append(response['coord']['lat'])\n",
    "        lng.append(response['coord']['lon'])\n",
    "        max_temp.append(response['main']['temp_max'])\n",
    "        humidity.append(response['main']['humidity'])\n",
    "        cloudiness.append(response['clouds']['all'])\n",
    "        wind_speed.append(response['wind']['speed'])\n",
    "        country.append(response['sys']['country'])\n",
    "        date.append(response['dt'])\n",
    "        \n",
    "        # Create if statement, add counts, and append\n",
    "        if records > 48:\n",
    "            records = 1\n",
    "            sets += 1\n",
    "            city_name.append(city)\n",
    "        else:\n",
    "            records += 1\n",
    "            city_name.append(city)\n",
    "        print(f\"Processing record number {records} in set number {sets} | {city}\")\n",
    "    except:\n",
    "        print(\"City not found. Skipping...\")"
   ]
  },
  {
   "cell_type": "markdown",
   "metadata": {},
   "source": [
    "### Convert Raw Data to DataFrame\n",
    "* Export the city data into a .csv.\n",
    "* Display the DataFrame"
   ]
  },
  {
   "cell_type": "code",
   "execution_count": 5,
   "metadata": {},
   "outputs": [
    {
     "data": {
      "text/html": [
       "<div>\n",
       "<style scoped>\n",
       "    .dataframe tbody tr th:only-of-type {\n",
       "        vertical-align: middle;\n",
       "    }\n",
       "\n",
       "    .dataframe tbody tr th {\n",
       "        vertical-align: top;\n",
       "    }\n",
       "\n",
       "    .dataframe thead th {\n",
       "        text-align: right;\n",
       "    }\n",
       "</style>\n",
       "<table border=\"1\" class=\"dataframe\">\n",
       "  <thead>\n",
       "    <tr style=\"text-align: right;\">\n",
       "      <th></th>\n",
       "      <th>City</th>\n",
       "      <th>Lat</th>\n",
       "      <th>Lng</th>\n",
       "      <th>Max Temp</th>\n",
       "      <th>Humidity</th>\n",
       "      <th>Cloudiness</th>\n",
       "      <th>Wind Speed</th>\n",
       "      <th>Country</th>\n",
       "      <th>Date</th>\n",
       "    </tr>\n",
       "  </thead>\n",
       "  <tbody>\n",
       "    <tr>\n",
       "      <th>0</th>\n",
       "      <td>kosh-agach</td>\n",
       "      <td>50.00</td>\n",
       "      <td>88.67</td>\n",
       "      <td>40.86</td>\n",
       "      <td>52</td>\n",
       "      <td>0</td>\n",
       "      <td>3.89</td>\n",
       "      <td>RU</td>\n",
       "      <td>1603341309</td>\n",
       "    </tr>\n",
       "    <tr>\n",
       "      <th>1</th>\n",
       "      <td>atuona</td>\n",
       "      <td>-9.80</td>\n",
       "      <td>-139.03</td>\n",
       "      <td>77.85</td>\n",
       "      <td>74</td>\n",
       "      <td>4</td>\n",
       "      <td>16.17</td>\n",
       "      <td>PF</td>\n",
       "      <td>1603340839</td>\n",
       "    </tr>\n",
       "    <tr>\n",
       "      <th>2</th>\n",
       "      <td>albany</td>\n",
       "      <td>42.60</td>\n",
       "      <td>-73.97</td>\n",
       "      <td>63.00</td>\n",
       "      <td>77</td>\n",
       "      <td>98</td>\n",
       "      <td>1.99</td>\n",
       "      <td>US</td>\n",
       "      <td>1603340861</td>\n",
       "    </tr>\n",
       "    <tr>\n",
       "      <th>3</th>\n",
       "      <td>hermanus</td>\n",
       "      <td>-34.42</td>\n",
       "      <td>19.23</td>\n",
       "      <td>55.99</td>\n",
       "      <td>90</td>\n",
       "      <td>2</td>\n",
       "      <td>1.99</td>\n",
       "      <td>ZA</td>\n",
       "      <td>1603340842</td>\n",
       "    </tr>\n",
       "    <tr>\n",
       "      <th>4</th>\n",
       "      <td>sao filipe</td>\n",
       "      <td>14.90</td>\n",
       "      <td>-24.50</td>\n",
       "      <td>80.56</td>\n",
       "      <td>74</td>\n",
       "      <td>41</td>\n",
       "      <td>5.12</td>\n",
       "      <td>CV</td>\n",
       "      <td>1603340939</td>\n",
       "    </tr>\n",
       "  </tbody>\n",
       "</table>\n",
       "</div>"
      ],
      "text/plain": [
       "         City    Lat     Lng  Max Temp  Humidity  Cloudiness  Wind Speed  \\\n",
       "0  kosh-agach  50.00   88.67     40.86        52           0        3.89   \n",
       "1      atuona  -9.80 -139.03     77.85        74           4       16.17   \n",
       "2      albany  42.60  -73.97     63.00        77          98        1.99   \n",
       "3    hermanus -34.42   19.23     55.99        90           2        1.99   \n",
       "4  sao filipe  14.90  -24.50     80.56        74          41        5.12   \n",
       "\n",
       "  Country        Date  \n",
       "0      RU  1603341309  \n",
       "1      PF  1603340839  \n",
       "2      US  1603340861  \n",
       "3      ZA  1603340842  \n",
       "4      CV  1603340939  "
      ]
     },
     "execution_count": 5,
     "metadata": {},
     "output_type": "execute_result"
    }
   ],
   "source": [
    "# Create a dictionary to store the results\n",
    "weather_data = {\n",
    "    \"City\": city_name,\n",
    "    \"Lat\": lat,\n",
    "    \"Lng\": lng,\n",
    "    \"Max Temp\": max_temp,\n",
    "    \"Humidity\": humidity,\n",
    "    \"Cloudiness\": cloudiness,\n",
    "    \"Wind Speed\": wind_speed,\n",
    "    \"Country\": country,\n",
    "    \"Date\": date\n",
    "}\n",
    "\n",
    "# Create a dataframe with the dictionary data\n",
    "weather_df = pd.DataFrame(weather_data)\n",
    "\n",
    "weather_df.head()"
   ]
  },
  {
   "cell_type": "code",
   "execution_count": 6,
   "metadata": {},
   "outputs": [],
   "source": [
    "# Turn that into a csv file and out put it\n",
    "weather_df.to_csv(\"../Output_Data/Weather_Data.csv\")"
   ]
  },
  {
   "cell_type": "code",
   "execution_count": 7,
   "metadata": {},
   "outputs": [
    {
     "data": {
      "text/html": [
       "<div>\n",
       "<style scoped>\n",
       "    .dataframe tbody tr th:only-of-type {\n",
       "        vertical-align: middle;\n",
       "    }\n",
       "\n",
       "    .dataframe tbody tr th {\n",
       "        vertical-align: top;\n",
       "    }\n",
       "\n",
       "    .dataframe thead th {\n",
       "        text-align: right;\n",
       "    }\n",
       "</style>\n",
       "<table border=\"1\" class=\"dataframe\">\n",
       "  <thead>\n",
       "    <tr style=\"text-align: right;\">\n",
       "      <th></th>\n",
       "      <th>Lat</th>\n",
       "      <th>Lng</th>\n",
       "      <th>Max Temp</th>\n",
       "      <th>Humidity</th>\n",
       "      <th>Cloudiness</th>\n",
       "      <th>Wind Speed</th>\n",
       "      <th>Date</th>\n",
       "    </tr>\n",
       "  </thead>\n",
       "  <tbody>\n",
       "    <tr>\n",
       "      <th>count</th>\n",
       "      <td>561.000000</td>\n",
       "      <td>561.000000</td>\n",
       "      <td>561.000000</td>\n",
       "      <td>561.000000</td>\n",
       "      <td>561.000000</td>\n",
       "      <td>561.000000</td>\n",
       "      <td>5.610000e+02</td>\n",
       "    </tr>\n",
       "    <tr>\n",
       "      <th>mean</th>\n",
       "      <td>19.441872</td>\n",
       "      <td>23.465579</td>\n",
       "      <td>60.066453</td>\n",
       "      <td>74.016043</td>\n",
       "      <td>50.771836</td>\n",
       "      <td>7.756988</td>\n",
       "      <td>1.603341e+09</td>\n",
       "    </tr>\n",
       "    <tr>\n",
       "      <th>std</th>\n",
       "      <td>33.957139</td>\n",
       "      <td>89.557765</td>\n",
       "      <td>20.362423</td>\n",
       "      <td>20.647503</td>\n",
       "      <td>38.770405</td>\n",
       "      <td>5.522891</td>\n",
       "      <td>2.691144e+02</td>\n",
       "    </tr>\n",
       "    <tr>\n",
       "      <th>min</th>\n",
       "      <td>-54.800000</td>\n",
       "      <td>-175.200000</td>\n",
       "      <td>1.400000</td>\n",
       "      <td>11.000000</td>\n",
       "      <td>0.000000</td>\n",
       "      <td>0.160000</td>\n",
       "      <td>1.603341e+09</td>\n",
       "    </tr>\n",
       "    <tr>\n",
       "      <th>25%</th>\n",
       "      <td>-9.800000</td>\n",
       "      <td>-54.840000</td>\n",
       "      <td>46.000000</td>\n",
       "      <td>64.000000</td>\n",
       "      <td>8.000000</td>\n",
       "      <td>3.420000</td>\n",
       "      <td>1.603341e+09</td>\n",
       "    </tr>\n",
       "    <tr>\n",
       "      <th>50%</th>\n",
       "      <td>24.340000</td>\n",
       "      <td>25.680000</td>\n",
       "      <td>62.940000</td>\n",
       "      <td>78.000000</td>\n",
       "      <td>53.000000</td>\n",
       "      <td>6.150000</td>\n",
       "      <td>1.603341e+09</td>\n",
       "    </tr>\n",
       "    <tr>\n",
       "      <th>75%</th>\n",
       "      <td>49.240000</td>\n",
       "      <td>105.150000</td>\n",
       "      <td>77.000000</td>\n",
       "      <td>90.000000</td>\n",
       "      <td>90.000000</td>\n",
       "      <td>10.360000</td>\n",
       "      <td>1.603341e+09</td>\n",
       "    </tr>\n",
       "    <tr>\n",
       "      <th>max</th>\n",
       "      <td>78.220000</td>\n",
       "      <td>179.320000</td>\n",
       "      <td>100.400000</td>\n",
       "      <td>100.000000</td>\n",
       "      <td>100.000000</td>\n",
       "      <td>39.860000</td>\n",
       "      <td>1.603342e+09</td>\n",
       "    </tr>\n",
       "  </tbody>\n",
       "</table>\n",
       "</div>"
      ],
      "text/plain": [
       "              Lat         Lng    Max Temp    Humidity  Cloudiness  Wind Speed  \\\n",
       "count  561.000000  561.000000  561.000000  561.000000  561.000000  561.000000   \n",
       "mean    19.441872   23.465579   60.066453   74.016043   50.771836    7.756988   \n",
       "std     33.957139   89.557765   20.362423   20.647503   38.770405    5.522891   \n",
       "min    -54.800000 -175.200000    1.400000   11.000000    0.000000    0.160000   \n",
       "25%     -9.800000  -54.840000   46.000000   64.000000    8.000000    3.420000   \n",
       "50%     24.340000   25.680000   62.940000   78.000000   53.000000    6.150000   \n",
       "75%     49.240000  105.150000   77.000000   90.000000   90.000000   10.360000   \n",
       "max     78.220000  179.320000  100.400000  100.000000  100.000000   39.860000   \n",
       "\n",
       "               Date  \n",
       "count  5.610000e+02  \n",
       "mean   1.603341e+09  \n",
       "std    2.691144e+02  \n",
       "min    1.603341e+09  \n",
       "25%    1.603341e+09  \n",
       "50%    1.603341e+09  \n",
       "75%    1.603341e+09  \n",
       "max    1.603342e+09  "
      ]
     },
     "execution_count": 7,
     "metadata": {},
     "output_type": "execute_result"
    }
   ],
   "source": [
    "weather_df.describe()"
   ]
  },
  {
   "cell_type": "markdown",
   "metadata": {},
   "source": [
    "## Inspect the data and remove the cities where the humidity > 100%.\n",
    "----\n",
    "Skip this step if there are no cities that have humidity > 100%. "
   ]
  },
  {
   "cell_type": "code",
   "execution_count": 8,
   "metadata": {},
   "outputs": [
    {
     "data": {
      "text/plain": [
       "100"
      ]
     },
     "execution_count": 8,
     "metadata": {},
     "output_type": "execute_result"
    }
   ],
   "source": [
    "# N/A! Max humidity is 100\n",
    "weather_df[\"Humidity\"].max()\n"
   ]
  },
  {
   "cell_type": "code",
   "execution_count": 9,
   "metadata": {},
   "outputs": [],
   "source": [
    "#  Get the indices of cities that have humidity over 100%.\n",
    "# N/A"
   ]
  },
  {
   "cell_type": "code",
   "execution_count": 10,
   "metadata": {},
   "outputs": [
    {
     "name": "stdout",
     "output_type": "stream",
     "text": [
      "The lower quartile of humidity is: 64.0\n",
      "The upper quartile of humidity is: 90.0\n",
      "The interquartile range of humidity is: 26.0\n",
      "The the median of humidity is: 78.0 \n",
      "Values below 25.0 could be outliers.\n",
      "Values above 129.0 could be outliers.\n"
     ]
    }
   ],
   "source": [
    "# Make a new DataFrame equal to the city data to drop all humidity outliers by index.\n",
    "# Passing \"inplace=False\" will make a copy of the city_data DataFrame, which we call \"clean_city_data\".\n",
    "\n",
    "quartiles = weather_df['Humidity'].quantile([.25,.5,.75])\n",
    "lowerq = quartiles[0.25]\n",
    "upperq = quartiles[0.75]\n",
    "iqr = upperq-lowerq\n",
    "\n",
    "print(f\"The lower quartile of humidity is: {lowerq}\")\n",
    "print(f\"The upper quartile of humidity is: {upperq}\")\n",
    "print(f\"The interquartile range of humidity is: {iqr}\")\n",
    "print(f\"The the median of humidity is: {quartiles[0.5]} \")\n",
    "\n",
    "lower_bound = lowerq - (1.5*iqr)\n",
    "upper_bound = upperq + (1.5*iqr)\n",
    "print(f\"Values below {lower_bound} could be outliers.\")\n",
    "print(f\"Values above {upper_bound} could be outliers.\")"
   ]
  },
  {
   "cell_type": "code",
   "execution_count": 11,
   "metadata": {},
   "outputs": [
    {
     "data": {
      "text/plain": [
       "City          556\n",
       "Lat           556\n",
       "Lng           556\n",
       "Max Temp      556\n",
       "Humidity      556\n",
       "Cloudiness    556\n",
       "Wind Speed    556\n",
       "Country       556\n",
       "Date          556\n",
       "dtype: int64"
      ]
     },
     "execution_count": 11,
     "metadata": {},
     "output_type": "execute_result"
    }
   ],
   "source": [
    "# Remove outliers and create a new dataframe without them\n",
    "clean_city_data = pd.DataFrame(weather_df[weather_df.Humidity >= 15.5])\n",
    "clean_city_data.count()\n"
   ]
  },
  {
   "cell_type": "code",
   "execution_count": 12,
   "metadata": {},
   "outputs": [
    {
     "data": {
      "text/html": [
       "<div>\n",
       "<style scoped>\n",
       "    .dataframe tbody tr th:only-of-type {\n",
       "        vertical-align: middle;\n",
       "    }\n",
       "\n",
       "    .dataframe tbody tr th {\n",
       "        vertical-align: top;\n",
       "    }\n",
       "\n",
       "    .dataframe thead th {\n",
       "        text-align: right;\n",
       "    }\n",
       "</style>\n",
       "<table border=\"1\" class=\"dataframe\">\n",
       "  <thead>\n",
       "    <tr style=\"text-align: right;\">\n",
       "      <th></th>\n",
       "      <th>City</th>\n",
       "      <th>Lat</th>\n",
       "      <th>Lng</th>\n",
       "      <th>Max Temp</th>\n",
       "      <th>Humidity</th>\n",
       "      <th>Cloudiness</th>\n",
       "      <th>Wind Speed</th>\n",
       "      <th>Country</th>\n",
       "      <th>Date</th>\n",
       "    </tr>\n",
       "  </thead>\n",
       "  <tbody>\n",
       "    <tr>\n",
       "      <th>0</th>\n",
       "      <td>kosh-agach</td>\n",
       "      <td>50.00</td>\n",
       "      <td>88.67</td>\n",
       "      <td>40.86</td>\n",
       "      <td>52</td>\n",
       "      <td>0</td>\n",
       "      <td>3.89</td>\n",
       "      <td>RU</td>\n",
       "      <td>1603341309</td>\n",
       "    </tr>\n",
       "    <tr>\n",
       "      <th>1</th>\n",
       "      <td>atuona</td>\n",
       "      <td>-9.80</td>\n",
       "      <td>-139.03</td>\n",
       "      <td>77.85</td>\n",
       "      <td>74</td>\n",
       "      <td>4</td>\n",
       "      <td>16.17</td>\n",
       "      <td>PF</td>\n",
       "      <td>1603340839</td>\n",
       "    </tr>\n",
       "    <tr>\n",
       "      <th>2</th>\n",
       "      <td>albany</td>\n",
       "      <td>42.60</td>\n",
       "      <td>-73.97</td>\n",
       "      <td>63.00</td>\n",
       "      <td>77</td>\n",
       "      <td>98</td>\n",
       "      <td>1.99</td>\n",
       "      <td>US</td>\n",
       "      <td>1603340861</td>\n",
       "    </tr>\n",
       "    <tr>\n",
       "      <th>3</th>\n",
       "      <td>hermanus</td>\n",
       "      <td>-34.42</td>\n",
       "      <td>19.23</td>\n",
       "      <td>55.99</td>\n",
       "      <td>90</td>\n",
       "      <td>2</td>\n",
       "      <td>1.99</td>\n",
       "      <td>ZA</td>\n",
       "      <td>1603340842</td>\n",
       "    </tr>\n",
       "    <tr>\n",
       "      <th>4</th>\n",
       "      <td>sao filipe</td>\n",
       "      <td>14.90</td>\n",
       "      <td>-24.50</td>\n",
       "      <td>80.56</td>\n",
       "      <td>74</td>\n",
       "      <td>41</td>\n",
       "      <td>5.12</td>\n",
       "      <td>CV</td>\n",
       "      <td>1603340939</td>\n",
       "    </tr>\n",
       "  </tbody>\n",
       "</table>\n",
       "</div>"
      ],
      "text/plain": [
       "         City    Lat     Lng  Max Temp  Humidity  Cloudiness  Wind Speed  \\\n",
       "0  kosh-agach  50.00   88.67     40.86        52           0        3.89   \n",
       "1      atuona  -9.80 -139.03     77.85        74           4       16.17   \n",
       "2      albany  42.60  -73.97     63.00        77          98        1.99   \n",
       "3    hermanus -34.42   19.23     55.99        90           2        1.99   \n",
       "4  sao filipe  14.90  -24.50     80.56        74          41        5.12   \n",
       "\n",
       "  Country        Date  \n",
       "0      RU  1603341309  \n",
       "1      PF  1603340839  \n",
       "2      US  1603340861  \n",
       "3      ZA  1603340842  \n",
       "4      CV  1603340939  "
      ]
     },
     "execution_count": 12,
     "metadata": {},
     "output_type": "execute_result"
    }
   ],
   "source": [
    "# Save the new df as a csv\n",
    "clean_city_data.to_csv(\"../Output_Data/Clean_City_Data.csv\")\n",
    "\n",
    "# Display the new df\n",
    "clean_city_data.head()"
   ]
  },
  {
   "cell_type": "markdown",
   "metadata": {},
   "source": [
    "## Plotting the Data\n",
    "* Use proper labeling of the plots using plot titles (including date of analysis) and axes labels.\n",
    "* Save the plotted figures as .pngs."
   ]
  },
  {
   "cell_type": "markdown",
   "metadata": {},
   "source": [
    "## Latitude vs. Temperature Plot"
   ]
  },
  {
   "cell_type": "code",
   "execution_count": 13,
   "metadata": {
    "scrolled": true
   },
   "outputs": [
    {
     "data": {
      "image/png": "[encoded data removed]",
      "text/plain": [
       "<Figure size 432x288 with 1 Axes>"
      ]
     },
     "metadata": {
      "needs_background": "light"
     },
     "output_type": "display_data"
    }
   ],
   "source": [
    "plt.scatter(clean_city_data[\"Lat\"],clean_city_data[\"Max Temp\"],edgecolors=\"black\",facecolors=\"green\")\n",
    "plt.title(\"City Latitude vs. Max Temperature (04/01/20)\")\n",
    "plt.xlabel(\"Latitude\")\n",
    "plt.ylabel(\"Max Temperature (F)\")\n",
    "plt.grid (True)\n",
    "plt.savefig(\"../Images/Lat_v_Temp.png\")\n",
    "plt.show()"
   ]
  },
  {
   "cell_type": "code",
   "execution_count": 14,
   "metadata": {},
   "outputs": [],
   "source": [
    "# OBSERVATION: Here... we see a scatter plot that is comparing Max Temperature and Latitude of our city data\n",
    "# We can see that the relationshp in the scatter plot is curvelinear.. \n",
    "# This essentialyl showcases that it is neither positive nor negative but changes as latitude and max temp..\n",
    "# Increase and decrease"
   ]
  },
  {
   "cell_type": "markdown",
   "metadata": {},
   "source": [
    "## Latitude vs. Humidity Plot"
   ]
  },
  {
   "cell_type": "code",
   "execution_count": 15,
   "metadata": {
    "scrolled": true
   },
   "outputs": [
    {
     "data": {
      "image/png": "[encoded data removed]",
      "text/plain": [
       "<Figure size 432x288 with 1 Axes>"
      ]
     },
     "metadata": {
      "needs_background": "light"
     },
     "output_type": "display_data"
    }
   ],
   "source": [
    "plt.scatter(clean_city_data[\"Lat\"],clean_city_data[\"Humidity\"],edgecolors=\"black\",facecolors=\"green\")\n",
    "plt.title(\"City Latitude vs. Humidity (04/01/20)\")\n",
    "plt.xlabel(\"Latitude\")\n",
    "plt.ylabel(\"Humidity (%)\")\n",
    "plt.grid (True)\n",
    "plt.savefig(\"../Images/Lat_v_Humid.png\")\n",
    "plt.show()"
   ]
  },
  {
   "cell_type": "code",
   "execution_count": 16,
   "metadata": {},
   "outputs": [],
   "source": [
    "# OBSERVATION: the scatter plot is relatively random, however if we were to choose a direction...\n",
    "# It seems that there is a weak positive correlation between Humidity and Latitude"
   ]
  },
  {
   "cell_type": "markdown",
   "metadata": {},
   "source": [
    "## Latitude vs. Cloudiness Plot"
   ]
  },
  {
   "cell_type": "code",
   "execution_count": 17,
   "metadata": {},
   "outputs": [
    {
     "data": {
      "image/png": "[encoded data removed]",
      "text/plain": [
       "<Figure size 432x288 with 1 Axes>"
      ]
     },
     "metadata": {
      "needs_background": "light"
     },
     "output_type": "display_data"
    }
   ],
   "source": [
    "plt.scatter(clean_city_data[\"Lat\"],clean_city_data[\"Cloudiness\"],edgecolors=\"black\",facecolors=\"green\")\n",
    "plt.title(\"City Latitude vs. Cloudiness (04/01/20)\")\n",
    "plt.xlabel(\"Latitude\")\n",
    "plt.ylabel(\"Cloudiness (%)\")\n",
    "plt.grid (True)\n",
    "plt.savefig(\"../Images/Lat_v_Cloud.png\")\n",
    "plt.show()"
   ]
  },
  {
   "cell_type": "code",
   "execution_count": 18,
   "metadata": {},
   "outputs": [],
   "source": [
    "# OBSERVATION: when comparing cloudiness and latitude, the scatter plot is quite random.\n",
    "# However, there do seem to be a lot of points on the extreme values of Cloudiness (0 or 100%)"
   ]
  },
  {
   "cell_type": "markdown",
   "metadata": {},
   "source": [
    "## Latitude vs. Wind Speed Plot"
   ]
  },
  {
   "cell_type": "code",
   "execution_count": 19,
   "metadata": {},
   "outputs": [
    {
     "data": {
      "image/png": "[encoded data removed]",
      "text/plain": [
       "<Figure size 432x288 with 1 Axes>"
      ]
     },
     "metadata": {
      "needs_background": "light"
     },
     "output_type": "display_data"
    }
   ],
   "source": [
    "plt.scatter(clean_city_data[\"Lat\"],clean_city_data[\"Wind Speed\"],edgecolors=\"black\",facecolors=\"green\")\n",
    "plt.title(\"City Latitude vs. Wind Speed (04/01/20)\")\n",
    "plt.xlabel(\"Latitude\")\n",
    "plt.ylabel(\"WindSpeed (MPH)\")\n",
    "plt.grid (True)\n",
    "plt.savefig(\"../Images/Lat_v_Wind.png\")\n",
    "plt.show()"
   ]
  },
  {
   "cell_type": "code",
   "execution_count": 20,
   "metadata": {},
   "outputs": [],
   "source": [
    "# OBSERVATION: When comparing Latitude and WindSpeed, there doesn't seem to be a correlation...\n",
    "# neither positive nor negative..\n",
    "# in terms of interesting trends.. regardless of latitude, most of the wind speeds seem to..\n",
    "# hover around anywhere between 0 to 10 mph."
   ]
  },
  {
   "cell_type": "markdown",
   "metadata": {},
   "source": [
    "## Linear Regression"
   ]
  },
  {
   "cell_type": "code",
   "execution_count": 81,
   "metadata": {},
   "outputs": [],
   "source": [
    "# Define plotting function\n",
    "\n",
    "def plotLinearRegression(xdata,ydata,xlbl,ylbl,lblpos,ifig):\n",
    "    (slope, intercept, rvalue, pvalue, stderr) = linregress(xdata, ydata)\n",
    "    print(f\"The r-squared is: {rvalue}\")\n",
    "    regress_values = xdata * slope + intercept\n",
    "    line_eq = \"y = \" + str(round(slope,2)) + \"x + \" + str(round(intercept,2))\n",
    "\n",
    "    plt.scatter(xdata,ydata)\n",
    "    plt.plot(xdata,regress_values,\"r-\")\n",
    "    plt.annotate(line_eq,lblpos,fontsize=15,color=\"red\")\n",
    "    plt.xlabel(xlbl)\n",
    "    plt.ylabel(ylbl)"
   ]
  },
  {
   "cell_type": "code",
   "execution_count": 82,
   "metadata": {},
   "outputs": [],
   "source": [
    "northern = clean_city_data.loc[clean_city_data[\"Lat\"] >= 0.0]\n",
    "northern.reset_index(inplace=True)\n",
    "\n",
    "southern = clean_city_data.loc[clean_city_data[\"Lat\"] < 0.0]\n",
    "southern.reset_index(inplace=True)"
   ]
  },
  {
   "cell_type": "markdown",
   "metadata": {},
   "source": [
    "####  Northern Hemisphere - Max Temp vs. Latitude Linear Regression"
   ]
  },
  {
   "cell_type": "code",
   "execution_count": 83,
   "metadata": {
    "scrolled": true
   },
   "outputs": [
    {
     "name": "stdout",
     "output_type": "stream",
     "text": [
      "The r-squared is: -0.8964617015352833\n"
     ]
    },
    {
     "data": {
      "image/png": "[encoded data removed]",
      "text/plain": [
       "<Figure size 432x288 with 1 Axes>"
      ]
     },
     "metadata": {
      "needs_background": "light"
     },
     "output_type": "display_data"
    }
   ],
   "source": [
    "xlbl = \"Lat\"\n",
    "ylbl = \"Max Temp\"\n",
    "lblpos = (0,25)\n",
    "plotLinearRegression(northern[xlbl],northern[ylbl],xlbl,ylbl,lblpos,6)\n",
    "plt.savefig(\"../Images/north_temp.png\")\n",
    "plt.show()"
   ]
  },
  {
   "cell_type": "code",
   "execution_count": 62,
   "metadata": {},
   "outputs": [],
   "source": [
    "# OBSERVATION: We are comparing the Max Temp vs Latitude within the Northern Hemisphere here...\n",
    "\n",
    "# There is a strong \"negative\" correlation/association between the variables\n",
    "\n",
    "# our equation puts the y value (max-temp) as our dependent variable\n",
    "\n",
    "# whereas the x-value(latitude) is our independent variable\n",
    "\n",
    "# with that being said we can use said equation to predict Max temp values for latitudes not included here..\n",
    "\n",
    "# specifically within the northern hemisphere here.."
   ]
  },
  {
   "cell_type": "markdown",
   "metadata": {},
   "source": [
    "####  Southern Hemisphere - Max Temp vs. Latitude Linear Regression"
   ]
  },
  {
   "cell_type": "code",
   "execution_count": 84,
   "metadata": {},
   "outputs": [
    {
     "name": "stdout",
     "output_type": "stream",
     "text": [
      "The r-squared is: 0.6787506497680215\n"
     ]
    },
    {
     "data": {
      "image/png": "[encoded data removed]",
      "text/plain": [
       "<Figure size 432x288 with 1 Axes>"
      ]
     },
     "metadata": {
      "needs_background": "light"
     },
     "output_type": "display_data"
    }
   ],
   "source": [
    "xlbl = \"Lat\"\n",
    "ylbl = \"Max Temp\"\n",
    "lblpos = (-55,90)\n",
    "plotLinearRegression(southern[xlbl],southern[ylbl],xlbl,ylbl,lblpos,6)\n",
    "plt.savefig(\"../Images/south_temp.png\")\n",
    "plt.show()"
   ]
  },
  {
   "cell_type": "code",
   "execution_count": 65,
   "metadata": {},
   "outputs": [],
   "source": [
    "# OBSERVATION: We are comparing the Max Temp vs Latitude within the Southern Hemisphere here...\n",
    "\n",
    "# There is a strong \"positive\" correlation/association between the variables\n",
    "\n",
    "# our equation puts the y value (max-temp) as our dependent variable\n",
    "\n",
    "# whereas the x-value(Latitude) is our independent variable\n",
    "\n",
    "# with that being said we can use said equation to predict Max temp values for latitudes not included here..\n",
    "\n",
    "# specifically within the southern hemisphere here..."
   ]
  },
  {
   "cell_type": "markdown",
   "metadata": {},
   "source": [
    "####  Northern Hemisphere - Humidity (%) vs. Latitude Linear Regression"
   ]
  },
  {
   "cell_type": "code",
   "execution_count": 85,
   "metadata": {},
   "outputs": [
    {
     "name": "stdout",
     "output_type": "stream",
     "text": [
      "The r-squared is: 0.26208671043559445\n"
     ]
    },
    {
     "data": {
      "image/png": "[encoded data removed]",
      "text/plain": [
       "<Figure size 432x288 with 1 Axes>"
      ]
     },
     "metadata": {
      "needs_background": "light"
     },
     "output_type": "display_data"
    }
   ],
   "source": [
    "xlbl = \"Lat\"\n",
    "ylbl = \"Humidity\"\n",
    "lblpos = (0,25)\n",
    "plotLinearRegression(northern[xlbl],northern[ylbl],xlbl,ylbl,lblpos,7)\n",
    "plt.savefig(\"../Images/north_humid.png\")\n",
    "plt.show()"
   ]
  },
  {
   "cell_type": "code",
   "execution_count": 67,
   "metadata": {},
   "outputs": [],
   "source": [
    "# OBSERVATION: We are comparing the Humidity vs Latitude within the Northern Hemisphere here...\n",
    "\n",
    "# There is a weak/moderate positive correlation/association between the variables\n",
    "# The scatterplot is not as clustered as the ones seen before..(temp vs. lat)\n",
    "\n",
    "# our equation puts the y value (Humidity) as our dependent variable\n",
    "\n",
    "# whereas the x-value(latitude) is our independent variable\n",
    "\n",
    "# with that being said we can use said equation to predict Humidity values for latitudes not included here..\n",
    "\n",
    "# specifically within the northern hemisphere here.."
   ]
  },
  {
   "cell_type": "markdown",
   "metadata": {},
   "source": [
    "####  Southern Hemisphere - Humidity (%) vs. Latitude Linear Regression"
   ]
  },
  {
   "cell_type": "code",
   "execution_count": 86,
   "metadata": {},
   "outputs": [
    {
     "name": "stdout",
     "output_type": "stream",
     "text": [
      "The r-squared is: 0.11358830495954857\n"
     ]
    },
    {
     "data": {
      "image/png": "[encoded data removed]",
      "text/plain": [
       "<Figure size 432x288 with 1 Axes>"
      ]
     },
     "metadata": {
      "needs_background": "light"
     },
     "output_type": "display_data"
    }
   ],
   "source": [
    "xlbl = \"Lat\"\n",
    "ylbl = \"Humidity\"\n",
    "lblpos = (-50,20)\n",
    "plotLinearRegression(southern[xlbl],southern[ylbl],xlbl,ylbl,lblpos,8)\n",
    "plt.savefig(\"../Images/south_humid.png\")\n",
    "plt.show()"
   ]
  },
  {
   "cell_type": "code",
   "execution_count": 69,
   "metadata": {},
   "outputs": [],
   "source": [
    "# OBSERVATION: We are comparing the Humidity vs Latitude within the Southern Hemisphere here...\n",
    "\n",
    "# There is a weak/moderate positive correlation/association between the variables\n",
    "# The scatterplot is not as clustered as the ones seen before..(temp vs. lat)\n",
    "\n",
    "# our equation puts the y value (Humidity) as our dependent variable\n",
    "\n",
    "# whereas the x-value(latitude) is our independent variable\n",
    "\n",
    "# with that being said we can use said equation to predict Humidity values for latitudes not included here..\n",
    "\n",
    "# specifically within the southern hemisphere here.."
   ]
  },
  {
   "cell_type": "markdown",
   "metadata": {},
   "source": [
    "####  Northern Hemisphere - Cloudiness (%) vs. Latitude Linear Regression"
   ]
  },
  {
   "cell_type": "code",
   "execution_count": 87,
   "metadata": {
    "scrolled": true
   },
   "outputs": [
    {
     "name": "stdout",
     "output_type": "stream",
     "text": [
      "The r-squared is: 0.17752009533381458\n"
     ]
    },
    {
     "data": {
      "image/png": "[encoded data removed]",
      "text/plain": [
       "<Figure size 432x288 with 1 Axes>"
      ]
     },
     "metadata": {
      "needs_background": "light"
     },
     "output_type": "display_data"
    }
   ],
   "source": [
    "xlbl = \"Lat\"\n",
    "ylbl = \"Cloudiness\"\n",
    "lblpos = (15,32)\n",
    "plotLinearRegression(northern[xlbl],northern[ylbl],xlbl,ylbl,lblpos,9)\n",
    "plt.savefig(\"../Images/north_cloud.png\")\n",
    "plt.show()"
   ]
  },
  {
   "cell_type": "code",
   "execution_count": 71,
   "metadata": {},
   "outputs": [],
   "source": [
    "# OBSERVATION: We are comparing the Cloudiness vs Latitude within the Northern Hemisphere here...\n",
    "\n",
    "# There is a weak positive correlation/association between the variables\n",
    "# The scatterplot is quite sparsed out \n",
    "\n",
    "# our equation puts the y value (Cloudiness) as our dependent variable\n",
    "\n",
    "# whereas the x-value(latitude) is our independent variable\n",
    "\n",
    "# with that being said we can use said equation to predict Cloudiness values for latitudes not included here..\n",
    "\n",
    "# specifically within the northern hemisphere here.."
   ]
  },
  {
   "cell_type": "markdown",
   "metadata": {},
   "source": [
    "####  Southern Hemisphere - Cloudiness (%) vs. Latitude Linear Regression"
   ]
  },
  {
   "cell_type": "code",
   "execution_count": 88,
   "metadata": {},
   "outputs": [
    {
     "name": "stdout",
     "output_type": "stream",
     "text": [
      "The r-squared is: 0.057112593003276924\n"
     ]
    },
    {
     "data": {
      "image/png": "[encoded data removed]",
      "text/plain": [
       "<Figure size 432x288 with 1 Axes>"
      ]
     },
     "metadata": {
      "needs_background": "light"
     },
     "output_type": "display_data"
    }
   ],
   "source": [
    "xlbl = \"Lat\"\n",
    "ylbl = \"Cloudiness\"\n",
    "lblpos = (-55,50)\n",
    "plotLinearRegression(southern[xlbl],southern[ylbl],xlbl,ylbl,lblpos,10)\n",
    "plt.savefig(\"../Images/south_cloud.png\")\n",
    "plt.show()"
   ]
  },
  {
   "cell_type": "code",
   "execution_count": 73,
   "metadata": {},
   "outputs": [],
   "source": [
    "# OBSERVATION: We are comparing the Cloudiness vs Latitude within the Southern Hemisphere here...\n",
    "\n",
    "# There is a very weak/almost no positive correlation/association between the variables\n",
    "# The scatterplot is quite sparsed out \n",
    "\n",
    "# our equation puts the y value (Cloudiness) as our dependent variable\n",
    "\n",
    "# whereas the x-value(latitude) is our independent variable\n",
    "\n",
    "# with that being said we can use said equation to predict Cloudiness values for latitudes not included here..\n",
    "\n",
    "# specifically within the Southern hemisphere here.."
   ]
  },
  {
   "cell_type": "markdown",
   "metadata": {},
   "source": [
    "####  Northern Hemisphere - Wind Speed (mph) vs. Latitude Linear Regression"
   ]
  },
  {
   "cell_type": "code",
   "execution_count": 89,
   "metadata": {},
   "outputs": [
    {
     "name": "stdout",
     "output_type": "stream",
     "text": [
      "The r-squared is: 0.10696594956267969\n"
     ]
    },
    {
     "data": {
      "image/png": "[encoded data removed]",
      "text/plain": [
       "<Figure size 432x288 with 1 Axes>"
      ]
     },
     "metadata": {
      "needs_background": "light"
     },
     "output_type": "display_data"
    }
   ],
   "source": [
    "xlbl = \"Lat\"\n",
    "ylbl = \"Wind Speed\"\n",
    "lblpos = (0,20)\n",
    "plotLinearRegression(northern[xlbl],northern[ylbl],xlbl,ylbl,lblpos,11)\n",
    "plt.savefig(\"../Images/north_wind.png\")\n",
    "plt.show()"
   ]
  },
  {
   "cell_type": "code",
   "execution_count": 75,
   "metadata": {},
   "outputs": [],
   "source": [
    "# OBSERVATION: We are comparing the Wind Speed vs Latitude within the Northern Hemisphere here...\n",
    "\n",
    "# There is a very weak/almost no positive correlation/association between the variables\n",
    "# The scatterplot is quite sparsed out and does not show a directional correlation like before\n",
    "# furthermore, the line of best fit is nearly horizontal indicating almost no directional correlation..\n",
    "\n",
    "# our equation puts the y value (Wind Speed) as our dependent variable\n",
    "\n",
    "# whereas the x-value(latitude) is our independent variable\n",
    "\n",
    "# with that being said we can use said equation to predict Wind Speed values for latitudes not included here..\n",
    "\n",
    "# specifically within the northern hemisphere here.."
   ]
  },
  {
   "cell_type": "markdown",
   "metadata": {},
   "source": [
    "####  Southern Hemisphere - Wind Speed (mph) vs. Latitude Linear Regression"
   ]
  },
  {
   "cell_type": "code",
   "execution_count": 90,
   "metadata": {},
   "outputs": [
    {
     "name": "stdout",
     "output_type": "stream",
     "text": [
      "The r-squared is: -0.13320325330460206\n"
     ]
    },
    {
     "data": {
      "image/png": "[encoded data removed]",
      "text/plain": [
       "<Figure size 432x288 with 1 Axes>"
      ]
     },
     "metadata": {
      "needs_background": "light"
     },
     "output_type": "display_data"
    }
   ],
   "source": [
    "xlbl = \"Lat\"\n",
    "ylbl = \"Wind Speed\"\n",
    "lblpos = (-50,15)\n",
    "plotLinearRegression(southern[xlbl],southern[ylbl],xlbl,ylbl,lblpos,12)\n",
    "plt.savefig(\"../Images/south_wind.png\")\n",
    "plt.show()"
   ]
  },
  {
   "cell_type": "code",
   "execution_count": 77,
   "metadata": {},
   "outputs": [],
   "source": [
    "# OBSERVATION: We are comparing the Wind Speed vs Latitude within the Southern Hemisphere here...\n",
    "\n",
    "# There is a weak negative correlation/association between the variables\n",
    "\n",
    "# our equation puts the y value (Wind Speed) as our dependent variable\n",
    "\n",
    "# whereas the x-value(latitude) is our independent variable\n",
    "\n",
    "# with that being said we can use said equation to predict Wind Speed values for latitudes not included here..\n",
    "\n",
    "# specifically within the southern hemisphere here.."
   ]
  },
  {
   "cell_type": "code",
   "execution_count": null,
   "metadata": {},
   "outputs": [],
   "source": []
  },
  {
   "cell_type": "code",
   "execution_count": null,
   "metadata": {},
   "outputs": [],
   "source": []
  }
 ],
 "metadata": {
  "anaconda-cloud": {},
  "kernel_info": {
   "name": "python3"
  },
  "kernelspec": {
   "display_name": "Python 3",
   "language": "python",
   "name": "python3"
  },
  "language_info": {
   "codemirror_mode": {
    "name": "ipython",
    "version": 3
   },
   "file_extension": ".py",
   "mimetype": "text/x-python",
   "name": "python",
   "nbconvert_exporter": "python",
   "pygments_lexer": "ipython3",
   "version": "3.6.12"
  },
  "latex_envs": {
   "LaTeX_envs_menu_present": true,
   "autoclose": false,
   "autocomplete": true,
   "bibliofile": "biblio.bib",
   "cite_by": "apalike",
   "current_citInitial": 1,
   "eqLabelWithNumbers": true,
   "eqNumInitial": 1,
   "hotkeys": {
    "equation": "Ctrl-E",
    "itemize": "Ctrl-I"
   },
   "labels_anchors": false,
   "latex_user_defs": false,
   "report_style_numbering": false,
   "user_envs_cfg": false
  },
  "nteract": {
   "version": "0.12.3"
  }
 },
 "nbformat": 4,
 "nbformat_minor": 2
}
