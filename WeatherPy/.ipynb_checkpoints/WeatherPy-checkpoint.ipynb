{
 "cells": [
  {
   "cell_type": "markdown",
   "metadata": {},
   "source": [
    "# WeatherPy\n",
    "----\n",
    "\n",
    "#### Note\n",
    "* Instructions have been included for each segment. You do not have to follow them exactly, but they are included to help you think through the steps.\n",
    "------------------------------------------------------------------------------------------------------------------\n",
    "\n",
    "3 Overall Observable Trends for Part 1 (WeatherPy)\n",
    "----\n",
    "(I have already included separate observations after each plot)\n",
    "\n",
    "------------------------------------------------------------------------------------------------------------------\n",
    "TREND 1: \n",
    "----\n",
    "Although it makes sense logically, it was interesting to see graphically how strong the correlations were\n",
    "when comparing Temperature and Latitude within the Northern and Southern Hemispheres.\n",
    "\n",
    "There was a very strong NEGATIVE correlation when comparing Temp and Lat in the Northern Hempishere.. whereas..\n",
    "\n",
    "There was a strong/moderate Positive correlation when comparing Temp and Lat in the Southern Hemisphere...\n",
    "\n",
    "------------------------------------------------------------------------------------------------------------------\n",
    "TREND 2:\n",
    "----\n",
    "Wind speed was interesting in the sense that regardless of what latitude the city was in, the speeds seem to mostly cluser around 5-10mph in the NORTHERN Hemisphere...There was no clear directional correation as well.\n",
    "\n",
    "That being said, surprisingly there was a weak negative correlation between wind speed and latitude\n",
    "when looking at the SOUTHERN Hemisphere...\n",
    "\n",
    "------------------------------------------------------------------------------------------------------------------\n",
    "TREND 3:\n",
    "----\n"
   ]
  },
  {
   "cell_type": "code",
   "execution_count": 1,
   "metadata": {
    "scrolled": true
   },
   "outputs": [],
   "source": [
    "# Import dependencies\n",
    "import pandas as pd\n",
    "import numpy as np\n",
    "import matplotlib.pyplot as plt\n",
    "import requests\n",
    "import time\n",
    "from citipy import citipy\n",
    "from api_keys import weather_api_key\n",
    "from api_keys import g_key\n",
    "from scipy.stats import linregress"
   ]
  },
  {
   "cell_type": "code",
   "execution_count": 2,
   "metadata": {},
   "outputs": [],
   "source": [
    "# Initiate variables and query address\n",
    "temp_type = \"imperial\"\n",
    "query_url = f\"http://api.openweathermap.org/data/2.5/weather?appid={weather_api_key}&units={temp_type}&q=\"\n",
    "\n",
    "# Set the range for lat and lon\n",
    "lat_range = (-90, 90)\n",
    "lon_range = (-180, 180)"
   ]
  },
  {
   "cell_type": "markdown",
   "metadata": {},
   "source": [
    "## Generate Cities List"
   ]
  },
  {
   "cell_type": "code",
   "execution_count": 3,
   "metadata": {},
   "outputs": [
    {
     "data": {
      "text/plain": [
       "625"
      ]
     },
     "execution_count": 3,
     "metadata": {},
     "output_type": "execute_result"
    }
   ],
   "source": [
    "# Create empty lists to store our data\n",
    "lat_lon_list = []\n",
    "cities_list = []\n",
    "\n",
    "# Creat a set of random lats and lons\n",
    "# use random.random or random.unifrom, one auto rounds and one doesnt\n",
    "latitude = np.random.uniform(low = -90, high = 90, size = 1500)\n",
    "longitude = np.random.uniform(low = -180, high = 180, size = 1500)\n",
    "\n",
    "# Zip both sets to your empty list\n",
    "lat_lon_list = zip(latitude, longitude)\n",
    "\n",
    "# Create loop to add random coordinates and cities to their lists\n",
    "# Look up citipy documentation\n",
    "for x in lat_lon_list:\n",
    "    city = citipy.nearest_city(x[0], x[1]).city_name\n",
    "    \n",
    "    if city not in cities_list:\n",
    "        cities_list.append(city)\n",
    "        \n",
    "len(cities_list)"
   ]
  },
  {
   "cell_type": "markdown",
   "metadata": {},
   "source": [
    "### Perform API Calls\n",
    "* Perform a weather check on each city using a series of successive API calls.\n",
    "* Include a print log of each city as it'sbeing processed (with the city number and city name).\n"
   ]
  },
  {
   "cell_type": "code",
   "execution_count": 4,
   "metadata": {
    "scrolled": true
   },
   "outputs": [
    {
     "name": "stdout",
     "output_type": "stream",
     "text": [
      "Processing record number 1 in set number 1 | san vicente\n",
      "Processing record number 2 in set number 1 | hobart\n",
      "Processing record number 3 in set number 1 | husavik\n",
      "Processing record number 4 in set number 1 | esperance\n",
      "Processing record number 5 in set number 1 | east london\n",
      "Processing record number 6 in set number 1 | ushuaia\n",
      "Processing record number 7 in set number 1 | mataura\n",
      "Processing record number 8 in set number 1 | atuona\n",
      "Processing record number 9 in set number 1 | new norfolk\n",
      "Processing record number 10 in set number 1 | bathsheba\n",
      "Processing record number 11 in set number 1 | muzaffarabad\n",
      "Processing record number 12 in set number 1 | bolekhiv\n",
      "Processing record number 13 in set number 1 | luderitz\n",
      "Processing record number 14 in set number 1 | haines junction\n",
      "Processing record number 15 in set number 1 | san quintin\n",
      "Processing record number 16 in set number 1 | gat\n",
      "Processing record number 17 in set number 1 | bethel\n",
      "Processing record number 18 in set number 1 | rikitea\n",
      "Processing record number 19 in set number 1 | mercedes\n",
      "Processing record number 20 in set number 1 | hami\n",
      "Processing record number 21 in set number 1 | gurupi\n",
      "Processing record number 22 in set number 1 | aykhal\n",
      "Processing record number 23 in set number 1 | punta arenas\n",
      "Processing record number 24 in set number 1 | bengkulu\n",
      "Processing record number 25 in set number 1 | sokoni\n",
      "Processing record number 26 in set number 1 | kirakira\n",
      "Processing record number 27 in set number 1 | bredasdorp\n",
      "Processing record number 28 in set number 1 | cascais\n",
      "Processing record number 29 in set number 1 | paragominas\n",
      "Processing record number 30 in set number 1 | kurumkan\n",
      "Processing record number 31 in set number 1 | leinfelden-echterdingen\n",
      "Processing record number 32 in set number 1 | igarka\n",
      "Processing record number 33 in set number 1 | minot\n",
      "Processing record number 34 in set number 1 | calbuco\n",
      "Processing record number 35 in set number 1 | barkly west\n",
      "Processing record number 36 in set number 1 | kapaa\n",
      "Processing record number 37 in set number 1 | puerto ayora\n",
      "Processing record number 38 in set number 1 | barrow\n",
      "Processing record number 39 in set number 1 | hilo\n",
      "Processing record number 40 in set number 1 | khatanga\n",
      "Processing record number 41 in set number 1 | isangel\n",
      "Processing record number 42 in set number 1 | tiarei\n",
      "Processing record number 43 in set number 1 | arraial do cabo\n",
      "Processing record number 44 in set number 1 | tuatapere\n",
      "Processing record number 45 in set number 1 | hermanus\n",
      "City not found. Skipping...\n",
      "Processing record number 46 in set number 1 | ohangaron\n",
      "Processing record number 47 in set number 1 | bluff\n",
      "Processing record number 48 in set number 1 | yulara\n",
      "Processing record number 49 in set number 1 | qaanaaq\n",
      "Processing record number 1 in set number 2 | akyab\n",
      "Processing record number 2 in set number 2 | lebu\n",
      "Processing record number 3 in set number 2 | sabya\n",
      "Processing record number 4 in set number 2 | kodiak\n",
      "Processing record number 5 in set number 2 | beloha\n",
      "Processing record number 6 in set number 2 | saint-philippe\n",
      "Processing record number 7 in set number 2 | goderich\n",
      "Processing record number 8 in set number 2 | alihe\n",
      "City not found. Skipping...\n",
      "Processing record number 9 in set number 2 | moose factory\n",
      "Processing record number 10 in set number 2 | thompson\n",
      "Processing record number 11 in set number 2 | provideniya\n",
      "Processing record number 12 in set number 2 | magaria\n",
      "Processing record number 13 in set number 2 | luis correia\n",
      "Processing record number 14 in set number 2 | vila franca do campo\n",
      "Processing record number 15 in set number 2 | mamakan\n",
      "Processing record number 16 in set number 2 | busselton\n",
      "City not found. Skipping...\n",
      "Processing record number 17 in set number 2 | nyurba\n",
      "Processing record number 18 in set number 2 | prince rupert\n",
      "Processing record number 19 in set number 2 | jamestown\n",
      "Processing record number 20 in set number 2 | batagay-alyta\n",
      "Processing record number 21 in set number 2 | faanui\n",
      "Processing record number 22 in set number 2 | dong xoai\n",
      "Processing record number 23 in set number 2 | albany\n",
      "Processing record number 24 in set number 2 | concarneau\n",
      "Processing record number 25 in set number 2 | donghai\n",
      "City not found. Skipping...\n",
      "Processing record number 26 in set number 2 | neyshabur\n",
      "Processing record number 27 in set number 2 | cidreira\n",
      "Processing record number 28 in set number 2 | faya\n",
      "Processing record number 29 in set number 2 | provins\n",
      "Processing record number 30 in set number 2 | camapua\n",
      "Processing record number 31 in set number 2 | deputatskiy\n",
      "Processing record number 32 in set number 2 | vaini\n",
      "Processing record number 33 in set number 2 | tasiilaq\n",
      "Processing record number 34 in set number 2 | nikolskoye\n",
      "Processing record number 35 in set number 2 | yar-sale\n",
      "Processing record number 36 in set number 2 | alice springs\n",
      "City not found. Skipping...\n",
      "Processing record number 37 in set number 2 | general roca\n",
      "Processing record number 38 in set number 2 | sioux lookout\n",
      "Processing record number 39 in set number 2 | pisco\n",
      "Processing record number 40 in set number 2 | sao filipe\n",
      "Processing record number 41 in set number 2 | narsaq\n",
      "Processing record number 42 in set number 2 | zaysan\n",
      "Processing record number 43 in set number 2 | yichang\n",
      "Processing record number 44 in set number 2 | de-kastri\n",
      "Processing record number 45 in set number 2 | dongsheng\n",
      "Processing record number 46 in set number 2 | cutler\n",
      "Processing record number 47 in set number 2 | cabo san lucas\n",
      "City not found. Skipping...\n",
      "Processing record number 48 in set number 2 | matadi\n",
      "Processing record number 49 in set number 2 | mogadishu\n",
      "Processing record number 1 in set number 3 | chokurdakh\n",
      "Processing record number 2 in set number 3 | salalah\n",
      "City not found. Skipping...\n",
      "Processing record number 3 in set number 3 | north bend\n",
      "Processing record number 4 in set number 3 | melito di porto salvo\n",
      "Processing record number 5 in set number 3 | mahebourg\n",
      "Processing record number 6 in set number 3 | adrar\n",
      "Processing record number 7 in set number 3 | la palma\n",
      "Processing record number 8 in set number 3 | northam\n",
      "Processing record number 9 in set number 3 | ceahlau\n",
      "Processing record number 10 in set number 3 | ciechanow\n",
      "Processing record number 11 in set number 3 | rawah\n",
      "Processing record number 12 in set number 3 | zyryanka\n",
      "Processing record number 13 in set number 3 | billings\n",
      "Processing record number 14 in set number 3 | itoman\n",
      "Processing record number 15 in set number 3 | longyearbyen\n",
      "City not found. Skipping...\n",
      "Processing record number 16 in set number 3 | benjamin hill\n",
      "Processing record number 17 in set number 3 | butaritari\n",
      "Processing record number 18 in set number 3 | twentynine palms\n",
      "Processing record number 19 in set number 3 | victoria\n",
      "Processing record number 20 in set number 3 | batang berjuntai\n",
      "Processing record number 21 in set number 3 | baherden\n",
      "Processing record number 22 in set number 3 | patea\n",
      "Processing record number 23 in set number 3 | harper\n",
      "Processing record number 24 in set number 3 | vanavara\n",
      "Processing record number 25 in set number 3 | dingle\n",
      "Processing record number 26 in set number 3 | abu dhabi\n",
      "Processing record number 27 in set number 3 | paracatu\n",
      "Processing record number 28 in set number 3 | san ignacio\n",
      "Processing record number 29 in set number 3 | mount gambier\n",
      "City not found. Skipping...\n",
      "Processing record number 30 in set number 3 | port alfred\n",
      "Processing record number 31 in set number 3 | tambun\n",
      "City not found. Skipping...\n",
      "Processing record number 32 in set number 3 | grand-lahou\n",
      "City not found. Skipping...\n",
      "Processing record number 33 in set number 3 | tombouctou\n",
      "Processing record number 34 in set number 3 | tezu\n",
      "City not found. Skipping...\n",
      "Processing record number 35 in set number 3 | berlevag\n",
      "Processing record number 36 in set number 3 | novyy svit\n",
      "Processing record number 37 in set number 3 | georgetown\n",
      "Processing record number 38 in set number 3 | denpasar\n",
      "Processing record number 39 in set number 3 | the valley\n",
      "Processing record number 40 in set number 3 | mar del plata\n",
      "Processing record number 41 in set number 3 | pangnirtung\n",
      "Processing record number 42 in set number 3 | muhos\n",
      "Processing record number 43 in set number 3 | ostrovnoy\n",
      "Processing record number 44 in set number 3 | bodden town\n"
     ]
    },
    {
     "name": "stdout",
     "output_type": "stream",
     "text": [
      "Processing record number 45 in set number 3 | novikovo\n",
      "Processing record number 46 in set number 3 | port-gentil\n",
      "Processing record number 47 in set number 3 | tambovka\n",
      "Processing record number 48 in set number 3 | ribeira grande\n",
      "Processing record number 49 in set number 3 | korla\n",
      "Processing record number 1 in set number 4 | sooke\n",
      "Processing record number 2 in set number 4 | yellowknife\n",
      "Processing record number 3 in set number 4 | witu\n",
      "Processing record number 4 in set number 4 | mogzon\n",
      "Processing record number 5 in set number 4 | aginskoye\n",
      "Processing record number 6 in set number 4 | caravelas\n",
      "Processing record number 7 in set number 4 | zhuhai\n",
      "Processing record number 8 in set number 4 | martapura\n",
      "Processing record number 9 in set number 4 | maicao\n",
      "Processing record number 10 in set number 4 | gravelbourg\n",
      "Processing record number 11 in set number 4 | hammerfest\n",
      "Processing record number 12 in set number 4 | riyadh\n",
      "Processing record number 13 in set number 4 | honiara\n",
      "Processing record number 14 in set number 4 | saint george\n",
      "Processing record number 15 in set number 4 | dikson\n",
      "Processing record number 16 in set number 4 | cururupu\n",
      "Processing record number 17 in set number 4 | norman wells\n",
      "Processing record number 18 in set number 4 | port elizabeth\n",
      "Processing record number 19 in set number 4 | gasa\n",
      "Processing record number 20 in set number 4 | kaitangata\n",
      "Processing record number 21 in set number 4 | santiago\n",
      "Processing record number 22 in set number 4 | tamasane\n",
      "Processing record number 23 in set number 4 | nefteyugansk\n",
      "City not found. Skipping...\n",
      "Processing record number 24 in set number 4 | qianguo\n",
      "Processing record number 25 in set number 4 | kapuskasing\n",
      "Processing record number 26 in set number 4 | san patricio\n",
      "Processing record number 27 in set number 4 | janauba\n",
      "Processing record number 28 in set number 4 | palmer\n",
      "Processing record number 29 in set number 4 | rodrigues alves\n",
      "Processing record number 30 in set number 4 | treinta y tres\n",
      "Processing record number 31 in set number 4 | san cristobal\n",
      "Processing record number 32 in set number 4 | guaruja\n",
      "Processing record number 33 in set number 4 | imbituba\n",
      "City not found. Skipping...\n",
      "Processing record number 34 in set number 4 | bilibino\n",
      "Processing record number 35 in set number 4 | havre-saint-pierre\n",
      "Processing record number 36 in set number 4 | kuytun\n",
      "Processing record number 37 in set number 4 | ixtapa\n",
      "Processing record number 38 in set number 4 | chuy\n",
      "Processing record number 39 in set number 4 | songkhla\n",
      "Processing record number 40 in set number 4 | clyde river\n",
      "Processing record number 41 in set number 4 | te anau\n",
      "Processing record number 42 in set number 4 | clinton\n",
      "Processing record number 43 in set number 4 | port lincoln\n",
      "Processing record number 44 in set number 4 | honningsvag\n",
      "Processing record number 45 in set number 4 | constitucion\n",
      "Processing record number 46 in set number 4 | salgueiro\n",
      "Processing record number 47 in set number 4 | christchurch\n",
      "Processing record number 48 in set number 4 | waingapu\n",
      "Processing record number 49 in set number 4 | necochea\n",
      "Processing record number 1 in set number 5 | aswan\n",
      "Processing record number 2 in set number 5 | ancud\n",
      "Processing record number 3 in set number 5 | san jose\n",
      "Processing record number 4 in set number 5 | aklavik\n",
      "Processing record number 5 in set number 5 | airai\n",
      "Processing record number 6 in set number 5 | hithadhoo\n",
      "Processing record number 7 in set number 5 | lufilufi\n",
      "Processing record number 8 in set number 5 | boshan\n",
      "Processing record number 9 in set number 5 | kattivakkam\n",
      "Processing record number 10 in set number 5 | iqaluit\n",
      "Processing record number 11 in set number 5 | seoul\n",
      "Processing record number 12 in set number 5 | sibolga\n",
      "City not found. Skipping...\n",
      "Processing record number 13 in set number 5 | srikakulam\n",
      "Processing record number 14 in set number 5 | castro\n",
      "Processing record number 15 in set number 5 | ust-maya\n",
      "Processing record number 16 in set number 5 | huarmey\n",
      "Processing record number 17 in set number 5 | vila velha\n",
      "Processing record number 18 in set number 5 | tromso\n",
      "Processing record number 19 in set number 5 | flinders\n",
      "Processing record number 20 in set number 5 | vostok\n",
      "Processing record number 21 in set number 5 | ulladulla\n",
      "Processing record number 22 in set number 5 | turan\n",
      "Processing record number 23 in set number 5 | comodoro rivadavia\n",
      "Processing record number 24 in set number 5 | turayf\n",
      "Processing record number 25 in set number 5 | vao\n",
      "Processing record number 26 in set number 5 | kenai\n",
      "Processing record number 27 in set number 5 | cape town\n",
      "Processing record number 28 in set number 5 | batemans bay\n",
      "Processing record number 29 in set number 5 | payo\n",
      "Processing record number 30 in set number 5 | gejiu\n",
      "Processing record number 31 in set number 5 | merauke\n",
      "City not found. Skipping...\n",
      "Processing record number 32 in set number 5 | sitka\n",
      "Processing record number 33 in set number 5 | lazaro cardenas\n",
      "Processing record number 34 in set number 5 | kahului\n",
      "Processing record number 35 in set number 5 | mount isa\n",
      "Processing record number 36 in set number 5 | kismayo\n",
      "Processing record number 37 in set number 5 | kibaya\n",
      "Processing record number 38 in set number 5 | salcedo\n",
      "Processing record number 39 in set number 5 | luau\n",
      "Processing record number 40 in set number 5 | sidi ali\n",
      "Processing record number 41 in set number 5 | pevek\n",
      "City not found. Skipping...\n",
      "Processing record number 42 in set number 5 | sorada\n",
      "Processing record number 43 in set number 5 | hue\n",
      "Processing record number 44 in set number 5 | cheney\n",
      "Processing record number 45 in set number 5 | hasaki\n",
      "Processing record number 46 in set number 5 | kaeo\n",
      "Processing record number 47 in set number 5 | lingao\n",
      "Processing record number 48 in set number 5 | carutapera\n",
      "Processing record number 49 in set number 5 | sakakah\n",
      "Processing record number 1 in set number 6 | poum\n",
      "Processing record number 2 in set number 6 | kvam\n",
      "Processing record number 3 in set number 6 | ketchikan\n",
      "Processing record number 4 in set number 6 | snasa\n",
      "City not found. Skipping...\n",
      "Processing record number 5 in set number 6 | saskylakh\n",
      "Processing record number 6 in set number 6 | takoradi\n",
      "Processing record number 7 in set number 6 | avarua\n",
      "Processing record number 8 in set number 6 | meulaboh\n",
      "Processing record number 9 in set number 6 | vyazma\n",
      "Processing record number 10 in set number 6 | lluta\n",
      "Processing record number 11 in set number 6 | oranjestad\n",
      "Processing record number 12 in set number 6 | samarai\n",
      "Processing record number 13 in set number 6 | kurchum\n",
      "Processing record number 14 in set number 6 | yumen\n",
      "Processing record number 15 in set number 6 | anadyr\n",
      "Processing record number 16 in set number 6 | katsuura\n",
      "Processing record number 17 in set number 6 | uberlandia\n",
      "Processing record number 18 in set number 6 | carnarvon\n",
      "Processing record number 19 in set number 6 | mauboh\n",
      "Processing record number 20 in set number 6 | sao joao da barra\n",
      "Processing record number 21 in set number 6 | puerto colombia\n",
      "Processing record number 22 in set number 6 | hargeysa\n",
      "Processing record number 23 in set number 6 | alekseyevsk\n",
      "Processing record number 24 in set number 6 | egvekinot\n",
      "City not found. Skipping...\n",
      "City not found. Skipping...\n",
      "Processing record number 25 in set number 6 | krasnozerskoye\n",
      "Processing record number 26 in set number 6 | kampot\n",
      "Processing record number 27 in set number 6 | saint anthony\n",
      "Processing record number 28 in set number 6 | mpongwe\n",
      "Processing record number 29 in set number 6 | buraydah\n",
      "Processing record number 30 in set number 6 | marawi\n",
      "Processing record number 31 in set number 6 | atambua\n",
      "Processing record number 32 in set number 6 | chipping sodbury\n",
      "Processing record number 33 in set number 6 | upernavik\n",
      "Processing record number 34 in set number 6 | mayumba\n",
      "Processing record number 35 in set number 6 | cherskiy\n",
      "Processing record number 36 in set number 6 | iranshahr\n",
      "Processing record number 37 in set number 6 | ikalamavony\n",
      "Processing record number 38 in set number 6 | souillac\n",
      "City not found. Skipping...\n",
      "Processing record number 39 in set number 6 | namatanai\n",
      "Processing record number 40 in set number 6 | kibala\n",
      "Processing record number 41 in set number 6 | port macquarie\n",
      "Processing record number 42 in set number 6 | lata\n"
     ]
    },
    {
     "name": "stdout",
     "output_type": "stream",
     "text": [
      "Processing record number 43 in set number 6 | omsukchan\n",
      "Processing record number 44 in set number 6 | san francisco menendez\n",
      "Processing record number 45 in set number 6 | tuktoyaktuk\n",
      "Processing record number 46 in set number 6 | kitimat\n",
      "Processing record number 47 in set number 6 | tautira\n",
      "Processing record number 48 in set number 6 | fairbanks\n",
      "Processing record number 49 in set number 6 | anshun\n",
      "Processing record number 1 in set number 7 | tecolutla\n",
      "Processing record number 2 in set number 7 | altay\n",
      "Processing record number 3 in set number 7 | okhotsk\n",
      "Processing record number 4 in set number 7 | gilbues\n",
      "Processing record number 5 in set number 7 | klaksvik\n",
      "Processing record number 6 in set number 7 | saint-joseph\n",
      "City not found. Skipping...\n",
      "Processing record number 7 in set number 7 | great yarmouth\n",
      "Processing record number 8 in set number 7 | itaituba\n",
      "Processing record number 9 in set number 7 | fortuna\n",
      "Processing record number 10 in set number 7 | la ronge\n",
      "Processing record number 11 in set number 7 | paamiut\n",
      "Processing record number 12 in set number 7 | mikuni\n",
      "Processing record number 13 in set number 7 | partur\n",
      "Processing record number 14 in set number 7 | yerbogachen\n",
      "Processing record number 15 in set number 7 | mhango\n",
      "City not found. Skipping...\n",
      "City not found. Skipping...\n",
      "Processing record number 16 in set number 7 | siguiri\n",
      "Processing record number 17 in set number 7 | george town\n",
      "Processing record number 18 in set number 7 | lasa\n",
      "City not found. Skipping...\n",
      "Processing record number 19 in set number 7 | peniche\n",
      "Processing record number 20 in set number 7 | jumla\n",
      "Processing record number 21 in set number 7 | tokur\n",
      "Processing record number 22 in set number 7 | bandarbeyla\n",
      "Processing record number 23 in set number 7 | cuajinicuilapa\n",
      "Processing record number 24 in set number 7 | genhe\n",
      "Processing record number 25 in set number 7 | tura\n",
      "Processing record number 26 in set number 7 | nanortalik\n",
      "Processing record number 27 in set number 7 | guilin\n",
      "Processing record number 28 in set number 7 | teya\n",
      "Processing record number 29 in set number 7 | ishigaki\n",
      "Processing record number 30 in set number 7 | kysyl-syr\n",
      "Processing record number 31 in set number 7 | toamasina\n",
      "Processing record number 32 in set number 7 | smithers\n",
      "Processing record number 33 in set number 7 | nandu\n",
      "City not found. Skipping...\n",
      "Processing record number 34 in set number 7 | kotido\n",
      "Processing record number 35 in set number 7 | ilulissat\n",
      "Processing record number 36 in set number 7 | xichang\n",
      "Processing record number 37 in set number 7 | kavieng\n",
      "Processing record number 38 in set number 7 | tiksi\n",
      "Processing record number 39 in set number 7 | sistranda\n",
      "Processing record number 40 in set number 7 | cazones\n",
      "Processing record number 41 in set number 7 | biel\n",
      "Processing record number 42 in set number 7 | pringsewu\n",
      "Processing record number 43 in set number 7 | hrodna\n",
      "Processing record number 44 in set number 7 | leningradskiy\n",
      "Processing record number 45 in set number 7 | puerto el triunfo\n",
      "Processing record number 46 in set number 7 | olafsvik\n",
      "Processing record number 47 in set number 7 | hit\n",
      "Processing record number 48 in set number 7 | tamiahua\n",
      "Processing record number 49 in set number 7 | semaria\n",
      "Processing record number 1 in set number 8 | weligama\n",
      "Processing record number 2 in set number 8 | baykit\n",
      "Processing record number 3 in set number 8 | lompoc\n",
      "City not found. Skipping...\n",
      "City not found. Skipping...\n",
      "Processing record number 4 in set number 8 | san giovanni in fiore\n",
      "City not found. Skipping...\n",
      "Processing record number 5 in set number 8 | stabat\n",
      "Processing record number 6 in set number 8 | lima\n",
      "Processing record number 7 in set number 8 | naze\n",
      "Processing record number 8 in set number 8 | natal\n",
      "Processing record number 9 in set number 8 | padang\n",
      "Processing record number 10 in set number 8 | teahupoo\n",
      "Processing record number 11 in set number 8 | brae\n",
      "Processing record number 12 in set number 8 | wabag\n",
      "Processing record number 13 in set number 8 | rio gallegos\n",
      "Processing record number 14 in set number 8 | saldanha\n",
      "Processing record number 15 in set number 8 | acapulco\n",
      "City not found. Skipping...\n",
      "Processing record number 16 in set number 8 | richards bay\n",
      "Processing record number 17 in set number 8 | nizhniy kuranakh\n",
      "Processing record number 18 in set number 8 | cubuk\n",
      "Processing record number 19 in set number 8 | kodinsk\n",
      "Processing record number 20 in set number 8 | karpogory\n",
      "Processing record number 21 in set number 8 | moyale\n",
      "Processing record number 22 in set number 8 | altamira\n",
      "Processing record number 23 in set number 8 | port augusta\n",
      "Processing record number 24 in set number 8 | lock haven\n",
      "Processing record number 25 in set number 8 | oudtshoorn\n",
      "Processing record number 26 in set number 8 | ouallam\n",
      "Processing record number 27 in set number 8 | saint pete beach\n",
      "Processing record number 28 in set number 8 | katobu\n",
      "Processing record number 29 in set number 8 | coquimbo\n",
      "Processing record number 30 in set number 8 | cayenne\n",
      "Processing record number 31 in set number 8 | port keats\n",
      "Processing record number 32 in set number 8 | kyra\n",
      "Processing record number 33 in set number 8 | cap malheureux\n",
      "Processing record number 34 in set number 8 | port hardy\n",
      "Processing record number 35 in set number 8 | atar\n",
      "Processing record number 36 in set number 8 | sabratah\n",
      "Processing record number 37 in set number 8 | manokwari\n",
      "Processing record number 38 in set number 8 | vredendal\n",
      "Processing record number 39 in set number 8 | avera\n",
      "Processing record number 40 in set number 8 | kruisfontein\n",
      "Processing record number 41 in set number 8 | manama\n",
      "Processing record number 42 in set number 8 | gidam\n",
      "Processing record number 43 in set number 8 | zonguldak\n",
      "Processing record number 44 in set number 8 | ossora\n",
      "Processing record number 45 in set number 8 | beira\n",
      "Processing record number 46 in set number 8 | miles city\n",
      "Processing record number 47 in set number 8 | shimoda\n",
      "Processing record number 48 in set number 8 | lakhnadon\n",
      "Processing record number 49 in set number 8 | zhanakorgan\n",
      "Processing record number 1 in set number 9 | manuk mangkaw\n",
      "Processing record number 2 in set number 9 | margate\n",
      "Processing record number 3 in set number 9 | honavar\n",
      "Processing record number 4 in set number 9 | todos santos\n",
      "Processing record number 5 in set number 9 | torbay\n",
      "Processing record number 6 in set number 9 | namibe\n",
      "Processing record number 7 in set number 9 | frontera\n",
      "Processing record number 8 in set number 9 | umm lajj\n",
      "Processing record number 9 in set number 9 | nizhnevartovsk\n",
      "Processing record number 10 in set number 9 | buin\n",
      "Processing record number 11 in set number 9 | balakhninskiy\n",
      "Processing record number 12 in set number 9 | nuuk\n",
      "Processing record number 13 in set number 9 | buala\n",
      "Processing record number 14 in set number 9 | sorland\n",
      "Processing record number 15 in set number 9 | ginda\n",
      "Processing record number 16 in set number 9 | hervey bay\n",
      "Processing record number 17 in set number 9 | gallup\n",
      "Processing record number 18 in set number 9 | pierre\n",
      "Processing record number 19 in set number 9 | trapani\n",
      "Processing record number 20 in set number 9 | puri\n",
      "Processing record number 21 in set number 9 | hong gai\n",
      "Processing record number 22 in set number 9 | byron bay\n",
      "Processing record number 23 in set number 9 | kungurtug\n",
      "Processing record number 24 in set number 9 | hofn\n",
      "Processing record number 25 in set number 9 | sorong\n",
      "Processing record number 26 in set number 9 | amot\n",
      "Processing record number 27 in set number 9 | salamiyah\n",
      "City not found. Skipping...\n",
      "Processing record number 28 in set number 9 | san juan nepomuceno\n",
      "Processing record number 29 in set number 9 | kenora\n",
      "Processing record number 30 in set number 9 | uyemskiy\n",
      "Processing record number 31 in set number 9 | pucallpa\n",
      "Processing record number 32 in set number 9 | kalmunai\n",
      "Processing record number 33 in set number 9 | kaoma\n",
      "Processing record number 34 in set number 9 | erenhot\n",
      "Processing record number 35 in set number 9 | porosozero\n",
      "Processing record number 36 in set number 9 | mwinilunga\n",
      "Processing record number 37 in set number 9 | foso\n",
      "Processing record number 38 in set number 9 | point pleasant\n",
      "Processing record number 39 in set number 9 | lorengau\n",
      "Processing record number 40 in set number 9 | belyy yar\n",
      "Processing record number 41 in set number 9 | geraldton\n"
     ]
    },
    {
     "name": "stdout",
     "output_type": "stream",
     "text": [
      "Processing record number 42 in set number 9 | winnemucca\n",
      "Processing record number 43 in set number 9 | college\n",
      "Processing record number 44 in set number 9 | tubajon\n",
      "Processing record number 45 in set number 9 | ubata\n",
      "Processing record number 46 in set number 9 | mvomero\n",
      "Processing record number 47 in set number 9 | rabat\n",
      "Processing record number 48 in set number 9 | kyren\n",
      "Processing record number 49 in set number 9 | jati\n",
      "Processing record number 1 in set number 10 | tazovskiy\n",
      "Processing record number 2 in set number 10 | moranbah\n",
      "Processing record number 3 in set number 10 | roma\n",
      "Processing record number 4 in set number 10 | marquette\n",
      "Processing record number 5 in set number 10 | trairi\n",
      "Processing record number 6 in set number 10 | srednekolymsk\n",
      "Processing record number 7 in set number 10 | port said\n",
      "Processing record number 8 in set number 10 | russell\n",
      "Processing record number 9 in set number 10 | ambilobe\n",
      "City not found. Skipping...\n",
      "Processing record number 10 in set number 10 | maltahohe\n",
      "City not found. Skipping...\n",
      "Processing record number 11 in set number 10 | ponta do sol\n",
      "Processing record number 12 in set number 10 | pakpattan\n",
      "Processing record number 13 in set number 10 | glenluce\n",
      "Processing record number 14 in set number 10 | raudeberg\n",
      "Processing record number 15 in set number 10 | tiznit\n",
      "Processing record number 16 in set number 10 | doctor arroyo\n",
      "Processing record number 17 in set number 10 | burgeo\n",
      "Processing record number 18 in set number 10 | sishui\n",
      "Processing record number 19 in set number 10 | vuktyl\n",
      "Processing record number 20 in set number 10 | codrington\n",
      "Processing record number 21 in set number 10 | najran\n",
      "Processing record number 22 in set number 10 | kidal\n",
      "City not found. Skipping...\n",
      "Processing record number 23 in set number 10 | nouadhibou\n",
      "City not found. Skipping...\n",
      "Processing record number 24 in set number 10 | weymouth\n",
      "City not found. Skipping...\n",
      "Processing record number 25 in set number 10 | ballina\n",
      "Processing record number 26 in set number 10 | verkhnevilyuysk\n",
      "City not found. Skipping...\n",
      "Processing record number 27 in set number 10 | mahina\n",
      "Processing record number 28 in set number 10 | ostersund\n",
      "Processing record number 29 in set number 10 | maldonado\n",
      "Processing record number 30 in set number 10 | zambezi\n",
      "Processing record number 31 in set number 10 | bom jesus\n",
      "Processing record number 32 in set number 10 | yatou\n",
      "City not found. Skipping...\n",
      "City not found. Skipping...\n",
      "City not found. Skipping...\n",
      "Processing record number 33 in set number 10 | juneau\n",
      "Processing record number 34 in set number 10 | swan hill\n",
      "Processing record number 35 in set number 10 | tomatlan\n",
      "City not found. Skipping...\n",
      "Processing record number 36 in set number 10 | khandyga\n",
      "Processing record number 37 in set number 10 | baraki barak\n",
      "Processing record number 38 in set number 10 | dalbandin\n",
      "Processing record number 39 in set number 10 | chavakkad\n",
      "Processing record number 40 in set number 10 | zemio\n",
      "Processing record number 41 in set number 10 | darhan\n",
      "Processing record number 42 in set number 10 | antofagasta\n",
      "Processing record number 43 in set number 10 | bambous virieux\n",
      "Processing record number 44 in set number 10 | lagoa\n",
      "Processing record number 45 in set number 10 | zuwarah\n",
      "Processing record number 46 in set number 10 | qiongshan\n",
      "Processing record number 47 in set number 10 | oktyabrskiy\n",
      "Processing record number 48 in set number 10 | severo-kurilsk\n",
      "Processing record number 49 in set number 10 | dawson creek\n",
      "Processing record number 1 in set number 11 | izhmorskiy\n",
      "Processing record number 2 in set number 11 | panguna\n",
      "Processing record number 3 in set number 11 | zaozerne\n",
      "Processing record number 4 in set number 11 | manta\n",
      "Processing record number 5 in set number 11 | roebourne\n",
      "Processing record number 6 in set number 11 | udachnyy\n",
      "Processing record number 7 in set number 11 | hauterive\n",
      "Processing record number 8 in set number 11 | tambura\n",
      "Processing record number 9 in set number 11 | saint-georges\n",
      "Processing record number 10 in set number 11 | myanaung\n",
      "Processing record number 11 in set number 11 | talnakh\n",
      "Processing record number 12 in set number 11 | labuhan\n",
      "Processing record number 13 in set number 11 | yola\n",
      "Processing record number 14 in set number 11 | maceio\n",
      "Processing record number 15 in set number 11 | montepuez\n",
      "Processing record number 16 in set number 11 | los llanos de aridane\n",
      "Processing record number 17 in set number 11 | mtwara\n",
      "Processing record number 18 in set number 11 | fos-sur-mer\n",
      "Processing record number 19 in set number 11 | carndonagh\n",
      "Processing record number 20 in set number 11 | beringovskiy\n",
      "Processing record number 21 in set number 11 | oissel\n",
      "Processing record number 22 in set number 11 | saint-pierre\n",
      "Processing record number 23 in set number 11 | hualmay\n",
      "Processing record number 24 in set number 11 | araceli\n",
      "Processing record number 25 in set number 11 | phan thiet\n",
      "Processing record number 26 in set number 11 | petropavlovka\n",
      "Processing record number 27 in set number 11 | pacifica\n",
      "Processing record number 28 in set number 11 | kotka\n",
      "Processing record number 29 in set number 11 | tripoli\n",
      "Processing record number 30 in set number 11 | ugoofaaru\n",
      "Processing record number 31 in set number 11 | half moon bay\n",
      "Processing record number 32 in set number 11 | marabba\n",
      "Processing record number 33 in set number 11 | ilebo\n",
      "Processing record number 34 in set number 11 | abhar\n",
      "Processing record number 35 in set number 11 | suratgarh\n",
      "Processing record number 36 in set number 11 | markova\n",
      "Processing record number 37 in set number 11 | qaqortoq\n",
      "Processing record number 38 in set number 11 | bonthe\n",
      "Processing record number 39 in set number 11 | chipiona\n",
      "City not found. Skipping...\n",
      "Processing record number 40 in set number 11 | champoton\n",
      "Processing record number 41 in set number 11 | roxana\n",
      "Processing record number 42 in set number 11 | el tigre\n",
      "Processing record number 43 in set number 11 | guerrero negro\n",
      "Processing record number 44 in set number 11 | da nang\n",
      "Processing record number 45 in set number 11 | nuristan\n",
      "Processing record number 46 in set number 11 | nome\n",
      "Processing record number 47 in set number 11 | dubbo\n",
      "Processing record number 48 in set number 11 | wangaratta\n",
      "Processing record number 49 in set number 11 | borskoye\n",
      "Processing record number 1 in set number 12 | pitsunda\n",
      "Processing record number 2 in set number 12 | mahanoro\n",
      "Processing record number 3 in set number 12 | port-de-bouc\n",
      "Processing record number 4 in set number 12 | jadu\n",
      "Processing record number 5 in set number 12 | kamsack\n",
      "Processing record number 6 in set number 12 | gubkinskiy\n",
      "Processing record number 7 in set number 12 | belaya gora\n",
      "Processing record number 8 in set number 12 | rock sound\n",
      "Processing record number 9 in set number 12 | coahuayana\n",
      "Processing record number 10 in set number 12 | broken hill\n",
      "Processing record number 11 in set number 12 | milkovo\n",
      "Processing record number 12 in set number 12 | coihaique\n",
      "Processing record number 13 in set number 12 | mastic beach\n",
      "Processing record number 14 in set number 12 | boyuibe\n",
      "Processing record number 15 in set number 12 | boundiali\n",
      "Processing record number 16 in set number 12 | tam ky\n",
      "Processing record number 17 in set number 12 | porto santo\n",
      "Processing record number 18 in set number 12 | tonantins\n",
      "Processing record number 19 in set number 12 | cluj-napoca\n",
      "Processing record number 20 in set number 12 | carauari\n",
      "Processing record number 21 in set number 12 | kaili\n",
      "Processing record number 22 in set number 12 | cam ranh\n",
      "Processing record number 23 in set number 12 | senador jose porfirio\n",
      "Processing record number 24 in set number 12 | aksu\n",
      "Processing record number 25 in set number 12 | medgidia\n",
      "Processing record number 26 in set number 12 | carballo\n",
      "Processing record number 27 in set number 12 | abu samrah\n",
      "Processing record number 28 in set number 12 | lieksa\n",
      "Processing record number 29 in set number 12 | funadhoo\n",
      "Processing record number 30 in set number 12 | pontes e lacerda\n",
      "Processing record number 31 in set number 12 | presidencia roque saenz pena\n",
      "Processing record number 32 in set number 12 | tapes\n",
      "City not found. Skipping...\n",
      "Processing record number 33 in set number 12 | cassia\n",
      "Processing record number 34 in set number 12 | khovu-aksy\n",
      "City not found. Skipping...\n"
     ]
    },
    {
     "name": "stdout",
     "output_type": "stream",
     "text": [
      "Processing record number 35 in set number 12 | enshi\n",
      "Processing record number 36 in set number 12 | noboribetsu\n",
      "Processing record number 37 in set number 12 | cedar city\n",
      "Processing record number 38 in set number 12 | marbella\n",
      "Processing record number 39 in set number 12 | great bend\n",
      "Processing record number 40 in set number 12 | rawson\n",
      "Processing record number 41 in set number 12 | gorontalo\n",
      "Processing record number 42 in set number 12 | dodola\n"
     ]
    }
   ],
   "source": [
    "# Create empty lists for each data set\n",
    "city_name = []\n",
    "lat = []\n",
    "lng = []\n",
    "max_temp = []\n",
    "humidity = []\n",
    "cloudiness = []\n",
    "wind_speed = []\n",
    "country = []\n",
    "date = []\n",
    "\n",
    "# Start the counters\n",
    "records = 0\n",
    "sets = 1\n",
    "\n",
    "# loop through response data\n",
    "# Use the try and except error handling\n",
    "for city in cities_list:\n",
    "    try:\n",
    "        # API Call\n",
    "        response = requests.get(query_url + city).json()\n",
    "        \n",
    "        # Apeend all those empty lists with data from loop\n",
    "        lat.append(response['coord']['lat'])\n",
    "        lng.append(response['coord']['lon'])\n",
    "        max_temp.append(response['main']['temp_max'])\n",
    "        humidity.append(response['main']['humidity'])\n",
    "        cloudiness.append(response['clouds']['all'])\n",
    "        wind_speed.append(response['wind']['speed'])\n",
    "        country.append(response['sys']['country'])\n",
    "        date.append(response['dt'])\n",
    "        \n",
    "        # Create if statement, add counts, and append\n",
    "        if records > 48:\n",
    "            records = 1\n",
    "            sets += 1\n",
    "            city_name.append(city)\n",
    "        else:\n",
    "            records += 1\n",
    "            city_name.append(city)\n",
    "        print(f\"Processing record number {records} in set number {sets} | {city}\")\n",
    "    except:\n",
    "        print(\"City not found. Skipping...\")"
   ]
  },
  {
   "cell_type": "markdown",
   "metadata": {},
   "source": [
    "### Convert Raw Data to DataFrame\n",
    "* Export the city data into a .csv.\n",
    "* Display the DataFrame"
   ]
  },
  {
   "cell_type": "code",
   "execution_count": 5,
   "metadata": {},
   "outputs": [
    {
     "data": {
      "text/html": [
       "<div>\n",
       "<style scoped>\n",
       "    .dataframe tbody tr th:only-of-type {\n",
       "        vertical-align: middle;\n",
       "    }\n",
       "\n",
       "    .dataframe tbody tr th {\n",
       "        vertical-align: top;\n",
       "    }\n",
       "\n",
       "    .dataframe thead th {\n",
       "        text-align: right;\n",
       "    }\n",
       "</style>\n",
       "<table border=\"1\" class=\"dataframe\">\n",
       "  <thead>\n",
       "    <tr style=\"text-align: right;\">\n",
       "      <th></th>\n",
       "      <th>City</th>\n",
       "      <th>Lat</th>\n",
       "      <th>Lng</th>\n",
       "      <th>Max Temp</th>\n",
       "      <th>Humidity</th>\n",
       "      <th>Cloudiness</th>\n",
       "      <th>Wind Speed</th>\n",
       "      <th>Country</th>\n",
       "      <th>Date</th>\n",
       "    </tr>\n",
       "  </thead>\n",
       "  <tbody>\n",
       "    <tr>\n",
       "      <th>0</th>\n",
       "      <td>san vicente</td>\n",
       "      <td>-26.62</td>\n",
       "      <td>-54.13</td>\n",
       "      <td>68.90</td>\n",
       "      <td>81</td>\n",
       "      <td>14</td>\n",
       "      <td>2.51</td>\n",
       "      <td>AR</td>\n",
       "      <td>1603326984</td>\n",
       "    </tr>\n",
       "    <tr>\n",
       "      <th>1</th>\n",
       "      <td>hobart</td>\n",
       "      <td>-42.88</td>\n",
       "      <td>147.33</td>\n",
       "      <td>63.00</td>\n",
       "      <td>67</td>\n",
       "      <td>75</td>\n",
       "      <td>10.29</td>\n",
       "      <td>AU</td>\n",
       "      <td>1603326741</td>\n",
       "    </tr>\n",
       "    <tr>\n",
       "      <th>2</th>\n",
       "      <td>husavik</td>\n",
       "      <td>66.04</td>\n",
       "      <td>-17.34</td>\n",
       "      <td>26.60</td>\n",
       "      <td>86</td>\n",
       "      <td>40</td>\n",
       "      <td>4.70</td>\n",
       "      <td>IS</td>\n",
       "      <td>1603326870</td>\n",
       "    </tr>\n",
       "    <tr>\n",
       "      <th>3</th>\n",
       "      <td>esperance</td>\n",
       "      <td>-33.87</td>\n",
       "      <td>121.90</td>\n",
       "      <td>59.00</td>\n",
       "      <td>100</td>\n",
       "      <td>75</td>\n",
       "      <td>11.41</td>\n",
       "      <td>AU</td>\n",
       "      <td>1603326853</td>\n",
       "    </tr>\n",
       "    <tr>\n",
       "      <th>4</th>\n",
       "      <td>east london</td>\n",
       "      <td>-33.02</td>\n",
       "      <td>27.91</td>\n",
       "      <td>63.18</td>\n",
       "      <td>81</td>\n",
       "      <td>0</td>\n",
       "      <td>12.10</td>\n",
       "      <td>ZA</td>\n",
       "      <td>1603326985</td>\n",
       "    </tr>\n",
       "  </tbody>\n",
       "</table>\n",
       "</div>"
      ],
      "text/plain": [
       "          City    Lat     Lng  Max Temp  Humidity  Cloudiness  Wind Speed  \\\n",
       "0  san vicente -26.62  -54.13     68.90        81          14        2.51   \n",
       "1       hobart -42.88  147.33     63.00        67          75       10.29   \n",
       "2      husavik  66.04  -17.34     26.60        86          40        4.70   \n",
       "3    esperance -33.87  121.90     59.00       100          75       11.41   \n",
       "4  east london -33.02   27.91     63.18        81           0       12.10   \n",
       "\n",
       "  Country        Date  \n",
       "0      AR  1603326984  \n",
       "1      AU  1603326741  \n",
       "2      IS  1603326870  \n",
       "3      AU  1603326853  \n",
       "4      ZA  1603326985  "
      ]
     },
     "execution_count": 5,
     "metadata": {},
     "output_type": "execute_result"
    }
   ],
   "source": [
    "# Create a dictionary to store the results\n",
    "weather_data = {\n",
    "    \"City\": city_name,\n",
    "    \"Lat\": lat,\n",
    "    \"Lng\": lng,\n",
    "    \"Max Temp\": max_temp,\n",
    "    \"Humidity\": humidity,\n",
    "    \"Cloudiness\": cloudiness,\n",
    "    \"Wind Speed\": wind_speed,\n",
    "    \"Country\": country,\n",
    "    \"Date\": date\n",
    "}\n",
    "\n",
    "# Create a dataframe with the dictionary data\n",
    "weather_df = pd.DataFrame(weather_data)\n",
    "\n",
    "weather_df.head()"
   ]
  },
  {
   "cell_type": "code",
   "execution_count": 6,
   "metadata": {},
   "outputs": [],
   "source": [
    "# Turn that into a csv file and out put it\n",
    "weather_df.to_csv(\"../Output_Data/Weather_Data.csv\")"
   ]
  },
  {
   "cell_type": "code",
   "execution_count": 7,
   "metadata": {},
   "outputs": [
    {
     "data": {
      "text/html": [
       "<div>\n",
       "<style scoped>\n",
       "    .dataframe tbody tr th:only-of-type {\n",
       "        vertical-align: middle;\n",
       "    }\n",
       "\n",
       "    .dataframe tbody tr th {\n",
       "        vertical-align: top;\n",
       "    }\n",
       "\n",
       "    .dataframe thead th {\n",
       "        text-align: right;\n",
       "    }\n",
       "</style>\n",
       "<table border=\"1\" class=\"dataframe\">\n",
       "  <thead>\n",
       "    <tr style=\"text-align: right;\">\n",
       "      <th></th>\n",
       "      <th>Lat</th>\n",
       "      <th>Lng</th>\n",
       "      <th>Max Temp</th>\n",
       "      <th>Humidity</th>\n",
       "      <th>Cloudiness</th>\n",
       "      <th>Wind Speed</th>\n",
       "      <th>Date</th>\n",
       "    </tr>\n",
       "  </thead>\n",
       "  <tbody>\n",
       "    <tr>\n",
       "      <th>count</th>\n",
       "      <td>581.000000</td>\n",
       "      <td>581.000000</td>\n",
       "      <td>581.000000</td>\n",
       "      <td>581.000000</td>\n",
       "      <td>581.000000</td>\n",
       "      <td>581.000000</td>\n",
       "      <td>5.810000e+02</td>\n",
       "    </tr>\n",
       "    <tr>\n",
       "      <th>mean</th>\n",
       "      <td>20.075542</td>\n",
       "      <td>21.095852</td>\n",
       "      <td>59.509983</td>\n",
       "      <td>74.419966</td>\n",
       "      <td>47.851979</td>\n",
       "      <td>7.304303</td>\n",
       "      <td>1.603327e+09</td>\n",
       "    </tr>\n",
       "    <tr>\n",
       "      <th>std</th>\n",
       "      <td>33.335198</td>\n",
       "      <td>91.142342</td>\n",
       "      <td>20.803848</td>\n",
       "      <td>20.398171</td>\n",
       "      <td>40.719123</td>\n",
       "      <td>4.948683</td>\n",
       "      <td>1.139842e+02</td>\n",
       "    </tr>\n",
       "    <tr>\n",
       "      <th>min</th>\n",
       "      <td>-54.800000</td>\n",
       "      <td>-179.170000</td>\n",
       "      <td>-4.000000</td>\n",
       "      <td>1.000000</td>\n",
       "      <td>0.000000</td>\n",
       "      <td>0.070000</td>\n",
       "      <td>1.603327e+09</td>\n",
       "    </tr>\n",
       "    <tr>\n",
       "      <th>25%</th>\n",
       "      <td>-6.880000</td>\n",
       "      <td>-59.340000</td>\n",
       "      <td>45.100000</td>\n",
       "      <td>66.000000</td>\n",
       "      <td>1.000000</td>\n",
       "      <td>3.360000</td>\n",
       "      <td>1.603327e+09</td>\n",
       "    </tr>\n",
       "    <tr>\n",
       "      <th>50%</th>\n",
       "      <td>23.310000</td>\n",
       "      <td>26.890000</td>\n",
       "      <td>64.540000</td>\n",
       "      <td>79.000000</td>\n",
       "      <td>40.000000</td>\n",
       "      <td>5.880000</td>\n",
       "      <td>1.603327e+09</td>\n",
       "    </tr>\n",
       "    <tr>\n",
       "      <th>75%</th>\n",
       "      <td>48.680000</td>\n",
       "      <td>104.180000</td>\n",
       "      <td>76.800000</td>\n",
       "      <td>88.000000</td>\n",
       "      <td>90.000000</td>\n",
       "      <td>10.290000</td>\n",
       "      <td>1.603327e+09</td>\n",
       "    </tr>\n",
       "    <tr>\n",
       "      <th>max</th>\n",
       "      <td>78.220000</td>\n",
       "      <td>179.320000</td>\n",
       "      <td>96.800000</td>\n",
       "      <td>100.000000</td>\n",
       "      <td>100.000000</td>\n",
       "      <td>30.060000</td>\n",
       "      <td>1.603327e+09</td>\n",
       "    </tr>\n",
       "  </tbody>\n",
       "</table>\n",
       "</div>"
      ],
      "text/plain": [
       "              Lat         Lng    Max Temp    Humidity  Cloudiness  Wind Speed  \\\n",
       "count  581.000000  581.000000  581.000000  581.000000  581.000000  581.000000   \n",
       "mean    20.075542   21.095852   59.509983   74.419966   47.851979    7.304303   \n",
       "std     33.335198   91.142342   20.803848   20.398171   40.719123    4.948683   \n",
       "min    -54.800000 -179.170000   -4.000000    1.000000    0.000000    0.070000   \n",
       "25%     -6.880000  -59.340000   45.100000   66.000000    1.000000    3.360000   \n",
       "50%     23.310000   26.890000   64.540000   79.000000   40.000000    5.880000   \n",
       "75%     48.680000  104.180000   76.800000   88.000000   90.000000   10.290000   \n",
       "max     78.220000  179.320000   96.800000  100.000000  100.000000   30.060000   \n",
       "\n",
       "               Date  \n",
       "count  5.810000e+02  \n",
       "mean   1.603327e+09  \n",
       "std    1.139842e+02  \n",
       "min    1.603327e+09  \n",
       "25%    1.603327e+09  \n",
       "50%    1.603327e+09  \n",
       "75%    1.603327e+09  \n",
       "max    1.603327e+09  "
      ]
     },
     "execution_count": 7,
     "metadata": {},
     "output_type": "execute_result"
    }
   ],
   "source": [
    "weather_df.describe()"
   ]
  },
  {
   "cell_type": "markdown",
   "metadata": {},
   "source": [
    "## Inspect the data and remove the cities where the humidity > 100%.\n",
    "----\n",
    "Skip this step if there are no cities that have humidity > 100%. "
   ]
  },
  {
   "cell_type": "code",
   "execution_count": 8,
   "metadata": {},
   "outputs": [
    {
     "data": {
      "text/plain": [
       "100"
      ]
     },
     "execution_count": 8,
     "metadata": {},
     "output_type": "execute_result"
    }
   ],
   "source": [
    "# N/A! Max humidity is 100\n",
    "weather_df[\"Humidity\"].max()\n"
   ]
  },
  {
   "cell_type": "code",
   "execution_count": 9,
   "metadata": {},
   "outputs": [],
   "source": [
    "#  Get the indices of cities that have humidity over 100%.\n",
    "# N/A"
   ]
  },
  {
   "cell_type": "code",
   "execution_count": 10,
   "metadata": {},
   "outputs": [
    {
     "name": "stdout",
     "output_type": "stream",
     "text": [
      "The lower quartile of humidity is: 66.0\n",
      "The upper quartile of humidity is: 88.0\n",
      "The interquartile range of humidity is: 22.0\n",
      "The the median of humidity is: 79.0 \n",
      "Values below 33.0 could be outliers.\n",
      "Values above 121.0 could be outliers.\n"
     ]
    }
   ],
   "source": [
    "# Make a new DataFrame equal to the city data to drop all humidity outliers by index.\n",
    "# Passing \"inplace=False\" will make a copy of the city_data DataFrame, which we call \"clean_city_data\".\n",
    "\n",
    "quartiles = weather_df['Humidity'].quantile([.25,.5,.75])\n",
    "lowerq = quartiles[0.25]\n",
    "upperq = quartiles[0.75]\n",
    "iqr = upperq-lowerq\n",
    "\n",
    "print(f\"The lower quartile of humidity is: {lowerq}\")\n",
    "print(f\"The upper quartile of humidity is: {upperq}\")\n",
    "print(f\"The interquartile range of humidity is: {iqr}\")\n",
    "print(f\"The the median of humidity is: {quartiles[0.5]} \")\n",
    "\n",
    "lower_bound = lowerq - (1.5*iqr)\n",
    "upper_bound = upperq + (1.5*iqr)\n",
    "print(f\"Values below {lower_bound} could be outliers.\")\n",
    "print(f\"Values above {upper_bound} could be outliers.\")"
   ]
  },
  {
   "cell_type": "code",
   "execution_count": 11,
   "metadata": {},
   "outputs": [
    {
     "data": {
      "text/plain": [
       "City          572\n",
       "Lat           572\n",
       "Lng           572\n",
       "Max Temp      572\n",
       "Humidity      572\n",
       "Cloudiness    572\n",
       "Wind Speed    572\n",
       "Country       572\n",
       "Date          572\n",
       "dtype: int64"
      ]
     },
     "execution_count": 11,
     "metadata": {},
     "output_type": "execute_result"
    }
   ],
   "source": [
    "# Remove outliers and create a new dataframe without them\n",
    "clean_city_data = pd.DataFrame(weather_df[weather_df.Humidity >= 15.5])\n",
    "clean_city_data.count()\n"
   ]
  },
  {
   "cell_type": "code",
   "execution_count": 12,
   "metadata": {},
   "outputs": [
    {
     "data": {
      "text/html": [
       "<div>\n",
       "<style scoped>\n",
       "    .dataframe tbody tr th:only-of-type {\n",
       "        vertical-align: middle;\n",
       "    }\n",
       "\n",
       "    .dataframe tbody tr th {\n",
       "        vertical-align: top;\n",
       "    }\n",
       "\n",
       "    .dataframe thead th {\n",
       "        text-align: right;\n",
       "    }\n",
       "</style>\n",
       "<table border=\"1\" class=\"dataframe\">\n",
       "  <thead>\n",
       "    <tr style=\"text-align: right;\">\n",
       "      <th></th>\n",
       "      <th>City</th>\n",
       "      <th>Lat</th>\n",
       "      <th>Lng</th>\n",
       "      <th>Max Temp</th>\n",
       "      <th>Humidity</th>\n",
       "      <th>Cloudiness</th>\n",
       "      <th>Wind Speed</th>\n",
       "      <th>Country</th>\n",
       "      <th>Date</th>\n",
       "    </tr>\n",
       "  </thead>\n",
       "  <tbody>\n",
       "    <tr>\n",
       "      <th>0</th>\n",
       "      <td>san vicente</td>\n",
       "      <td>-26.62</td>\n",
       "      <td>-54.13</td>\n",
       "      <td>68.90</td>\n",
       "      <td>81</td>\n",
       "      <td>14</td>\n",
       "      <td>2.51</td>\n",
       "      <td>AR</td>\n",
       "      <td>1603326984</td>\n",
       "    </tr>\n",
       "    <tr>\n",
       "      <th>1</th>\n",
       "      <td>hobart</td>\n",
       "      <td>-42.88</td>\n",
       "      <td>147.33</td>\n",
       "      <td>63.00</td>\n",
       "      <td>67</td>\n",
       "      <td>75</td>\n",
       "      <td>10.29</td>\n",
       "      <td>AU</td>\n",
       "      <td>1603326741</td>\n",
       "    </tr>\n",
       "    <tr>\n",
       "      <th>2</th>\n",
       "      <td>husavik</td>\n",
       "      <td>66.04</td>\n",
       "      <td>-17.34</td>\n",
       "      <td>26.60</td>\n",
       "      <td>86</td>\n",
       "      <td>40</td>\n",
       "      <td>4.70</td>\n",
       "      <td>IS</td>\n",
       "      <td>1603326870</td>\n",
       "    </tr>\n",
       "    <tr>\n",
       "      <th>3</th>\n",
       "      <td>esperance</td>\n",
       "      <td>-33.87</td>\n",
       "      <td>121.90</td>\n",
       "      <td>59.00</td>\n",
       "      <td>100</td>\n",
       "      <td>75</td>\n",
       "      <td>11.41</td>\n",
       "      <td>AU</td>\n",
       "      <td>1603326853</td>\n",
       "    </tr>\n",
       "    <tr>\n",
       "      <th>4</th>\n",
       "      <td>east london</td>\n",
       "      <td>-33.02</td>\n",
       "      <td>27.91</td>\n",
       "      <td>63.18</td>\n",
       "      <td>81</td>\n",
       "      <td>0</td>\n",
       "      <td>12.10</td>\n",
       "      <td>ZA</td>\n",
       "      <td>1603326985</td>\n",
       "    </tr>\n",
       "  </tbody>\n",
       "</table>\n",
       "</div>"
      ],
      "text/plain": [
       "          City    Lat     Lng  Max Temp  Humidity  Cloudiness  Wind Speed  \\\n",
       "0  san vicente -26.62  -54.13     68.90        81          14        2.51   \n",
       "1       hobart -42.88  147.33     63.00        67          75       10.29   \n",
       "2      husavik  66.04  -17.34     26.60        86          40        4.70   \n",
       "3    esperance -33.87  121.90     59.00       100          75       11.41   \n",
       "4  east london -33.02   27.91     63.18        81           0       12.10   \n",
       "\n",
       "  Country        Date  \n",
       "0      AR  1603326984  \n",
       "1      AU  1603326741  \n",
       "2      IS  1603326870  \n",
       "3      AU  1603326853  \n",
       "4      ZA  1603326985  "
      ]
     },
     "execution_count": 12,
     "metadata": {},
     "output_type": "execute_result"
    }
   ],
   "source": [
    "# Save the new df as a csv\n",
    "clean_city_data.to_csv(\"../Output_Data/Clean_City_Data.csv\")\n",
    "\n",
    "# Display the new df\n",
    "clean_city_data.head()"
   ]
  },
  {
   "cell_type": "markdown",
   "metadata": {},
   "source": [
    "## Plotting the Data\n",
    "* Use proper labeling of the plots using plot titles (including date of analysis) and axes labels.\n",
    "* Save the plotted figures as .pngs."
   ]
  },
  {
   "cell_type": "markdown",
   "metadata": {},
   "source": [
    "## Latitude vs. Temperature Plot"
   ]
  },
  {
   "cell_type": "code",
   "execution_count": 13,
   "metadata": {
    "scrolled": true
   },
   "outputs": [
    {
     "data": {
      "image/png": "[encoded data removed]",
      "text/plain": [
       "<Figure size 432x288 with 1 Axes>"
      ]
     },
     "metadata": {
      "needs_background": "light"
     },
     "output_type": "display_data"
    }
   ],
   "source": [
    "plt.scatter(clean_city_data[\"Lat\"],clean_city_data[\"Max Temp\"],edgecolors=\"black\",facecolors=\"green\")\n",
    "plt.title(\"City Latitude vs. Max Temperature (04/01/20)\")\n",
    "plt.xlabel(\"Latitude\")\n",
    "plt.ylabel(\"Max Temperature (F)\")\n",
    "plt.grid (True)\n",
    "plt.savefig(\"../Images/Lat_v_Temp.png\")\n",
    "plt.show()"
   ]
  },
  {
   "cell_type": "code",
   "execution_count": 41,
   "metadata": {},
   "outputs": [],
   "source": [
    "# OBSERVATION: Here... we see a scatter plot that is comparing Max Temperature and Latitude of our city data\n",
    "# We can see that the relationshp in the scatter plot is curvelinear.. \n",
    "# This essentialyl showcases that it is neither positive nor negative but changes as latitude and max temp..\n",
    "# Increase and decrease"
   ]
  },
  {
   "cell_type": "markdown",
   "metadata": {},
   "source": [
    "## Latitude vs. Humidity Plot"
   ]
  },
  {
   "cell_type": "code",
   "execution_count": 14,
   "metadata": {
    "scrolled": true
   },
   "outputs": [
    {
     "data": {
      "image/png": "[encoded data removed]",
      "text/plain": [
       "<Figure size 432x288 with 1 Axes>"
      ]
     },
     "metadata": {
      "needs_background": "light"
     },
     "output_type": "display_data"
    }
   ],
   "source": [
    "plt.scatter(clean_city_data[\"Lat\"],clean_city_data[\"Humidity\"],edgecolors=\"black\",facecolors=\"green\")\n",
    "plt.title(\"City Latitude vs. Humidity (04/01/20)\")\n",
    "plt.xlabel(\"Latitude\")\n",
    "plt.ylabel(\"Humidity (%)\")\n",
    "plt.grid (True)\n",
    "plt.savefig(\"../Images/Lat_v_Humid.png\")\n",
    "plt.show()"
   ]
  },
  {
   "cell_type": "code",
   "execution_count": 42,
   "metadata": {},
   "outputs": [],
   "source": [
    "# OBSERVATION: the scatter plot is relatively random, however if we were to choose a direction...\n",
    "# It seems that there is a weak positive correlation between Humidity and Latitude"
   ]
  },
  {
   "cell_type": "markdown",
   "metadata": {},
   "source": [
    "## Latitude vs. Cloudiness Plot"
   ]
  },
  {
   "cell_type": "code",
   "execution_count": 15,
   "metadata": {},
   "outputs": [
    {
     "data": {
      "image/png": "[encoded data removed]",
      "text/plain": [
       "<Figure size 432x288 with 1 Axes>"
      ]
     },
     "metadata": {
      "needs_background": "light"
     },
     "output_type": "display_data"
    }
   ],
   "source": [
    "plt.scatter(clean_city_data[\"Lat\"],clean_city_data[\"Cloudiness\"],edgecolors=\"black\",facecolors=\"green\")\n",
    "plt.title(\"City Latitude vs. Cloudiness (04/01/20)\")\n",
    "plt.xlabel(\"Latitude\")\n",
    "plt.ylabel(\"Cloudiness (%)\")\n",
    "plt.grid (True)\n",
    "plt.savefig(\"../Images/Lat_v_Cloud.png\")\n",
    "plt.show()"
   ]
  },
  {
   "cell_type": "code",
   "execution_count": 43,
   "metadata": {},
   "outputs": [],
   "source": [
    "# OBSERVATION: when comparing cloudiness and latitude, the scatter plot is quite random.\n",
    "# However, there do seem to be a lot of points on the extreme values of Cloudiness (0 or 100%)"
   ]
  },
  {
   "cell_type": "markdown",
   "metadata": {},
   "source": [
    "## Latitude vs. Wind Speed Plot"
   ]
  },
  {
   "cell_type": "code",
   "execution_count": 16,
   "metadata": {},
   "outputs": [
    {
     "data": {
      "image/png": "[encoded data removed]",
      "text/plain": [
       "<Figure size 432x288 with 1 Axes>"
      ]
     },
     "metadata": {
      "needs_background": "light"
     },
     "output_type": "display_data"
    }
   ],
   "source": [
    "plt.scatter(clean_city_data[\"Lat\"],clean_city_data[\"Wind Speed\"],edgecolors=\"black\",facecolors=\"green\")\n",
    "plt.title(\"City Latitude vs. Wind Speed (04/01/20)\")\n",
    "plt.xlabel(\"Latitude\")\n",
    "plt.ylabel(\"WindSpeed (MPH)\")\n",
    "plt.grid (True)\n",
    "plt.savefig(\"../Images/Lat_v_Wind.png\")\n",
    "plt.show()"
   ]
  },
  {
   "cell_type": "code",
   "execution_count": 45,
   "metadata": {},
   "outputs": [],
   "source": [
    "# OBSERVATION: When comparing Latitude and WindSpeed, there doesn't seem to be a correlation...\n",
    "# neither positive nor negative..\n",
    "# in terms of interesting trends.. regardless of latitude, most of the wind speeds seem to..\n",
    "# hover around anywhere between 0 to 10 mph."
   ]
  },
  {
   "cell_type": "markdown",
   "metadata": {},
   "source": [
    "## Linear Regression"
   ]
  },
  {
   "cell_type": "code",
   "execution_count": 20,
   "metadata": {},
   "outputs": [],
   "source": [
    "# Define plotting function\n",
    "\n",
    "def plotLinearRegression(xdata,ydata,xlbl,ylbl,lblpos,ifig):\n",
    "    (slope, intercept, rvalue, pvalue, stderr) = linregress(xdata, ydata)\n",
    "    print(f\"The r-squared is: {rvalue}\")\n",
    "    regress_values = xdata * slope + intercept\n",
    "    line_eq = \"y = \" + str(round(slope,2)) + \"x + \" + str(round(intercept,2))\n",
    "\n",
    "    plt.scatter(xdata,ydata)\n",
    "    plt.plot(xdata,regress_values,\"r-\")\n",
    "    plt.annotate(line_eq,lblpos,fontsize=15,color=\"red\")\n",
    "    plt.xlabel(xlbl)\n",
    "    plt.ylabel(ylbl)\n",
    "    plt.show()"
   ]
  },
  {
   "cell_type": "code",
   "execution_count": 21,
   "metadata": {},
   "outputs": [],
   "source": [
    "northern = clean_city_data.loc[clean_city_data[\"Lat\"] >= 0.0]\n",
    "northern.reset_index(inplace=True)\n",
    "\n",
    "southern = clean_city_data.loc[clean_city_data[\"Lat\"] < 0.0]\n",
    "southern.reset_index(inplace=True)"
   ]
  },
  {
   "cell_type": "markdown",
   "metadata": {},
   "source": [
    "####  Northern Hemisphere - Max Temp vs. Latitude Linear Regression"
   ]
  },
  {
   "cell_type": "code",
   "execution_count": 25,
   "metadata": {
    "scrolled": true
   },
   "outputs": [
    {
     "name": "stdout",
     "output_type": "stream",
     "text": [
      "The r-squared is: -0.887808491930482\n"
     ]
    },
    {
     "data": {
      "image/png": "[encoded data removed]",
      "text/plain": [
       "<Figure size 432x288 with 1 Axes>"
      ]
     },
     "metadata": {
      "needs_background": "light"
     },
     "output_type": "display_data"
    },
    {
     "data": {
      "text/plain": [
       "<Figure size 432x288 with 0 Axes>"
      ]
     },
     "metadata": {},
     "output_type": "display_data"
    }
   ],
   "source": [
    "xlbl = \"Lat\"\n",
    "ylbl = \"Max Temp\"\n",
    "lblpos = (0,25)\n",
    "plotLinearRegression(northern[xlbl],northern[ylbl],xlbl,ylbl,lblpos,6)\n",
    "plt.savefig(\"../Images/north_temp.png\")"
   ]
  },
  {
   "cell_type": "code",
   "execution_count": 47,
   "metadata": {},
   "outputs": [],
   "source": [
    "# OBSERVATION: We are comparing the Max Temp vs Latitude within the Northern Hemisphere here...\n",
    "\n",
    "# There is a strong \"negative\" correlation/association between the variables\n",
    "\n",
    "# our equation puts the y value (max-temp) as our dependent variable\n",
    "\n",
    "# whereas the x-value(latitude) is our independent variable\n",
    "\n",
    "# with that being said we can use said equation to predict Max temp values for latitudes not included here..\n",
    "\n",
    "# specifically within the northern hemisphere here.."
   ]
  },
  {
   "cell_type": "code",
   "execution_count": 26,
   "metadata": {},
   "outputs": [
    {
     "data": {
      "text/plain": [
       "<Figure size 432x288 with 0 Axes>"
      ]
     },
     "metadata": {},
     "output_type": "display_data"
    }
   ],
   "source": [
    "plt.savefig(\"../Images/north_temp.png\")\n",
    "plt.show()"
   ]
  },
  {
   "cell_type": "markdown",
   "metadata": {},
   "source": [
    "####  Southern Hemisphere - Max Temp vs. Latitude Linear Regression"
   ]
  },
  {
   "cell_type": "code",
   "execution_count": 27,
   "metadata": {},
   "outputs": [
    {
     "name": "stdout",
     "output_type": "stream",
     "text": [
      "The r-squared is: 0.6859624132307203\n"
     ]
    },
    {
     "data": {
      "image/png": "[encoded data removed]",
      "text/plain": [
       "<Figure size 432x288 with 1 Axes>"
      ]
     },
     "metadata": {
      "needs_background": "light"
     },
     "output_type": "display_data"
    },
    {
     "data": {
      "text/plain": [
       "<Figure size 432x288 with 0 Axes>"
      ]
     },
     "metadata": {},
     "output_type": "display_data"
    }
   ],
   "source": [
    "xlbl = \"Lat\"\n",
    "ylbl = \"Max Temp\"\n",
    "lblpos = (-55,90)\n",
    "plotLinearRegression(southern[xlbl],southern[ylbl],xlbl,ylbl,lblpos,6)\n",
    "plt.savefig(\"../Images/south_temp.png\")"
   ]
  },
  {
   "cell_type": "code",
   "execution_count": 48,
   "metadata": {},
   "outputs": [],
   "source": [
    "# OBSERVATION: We are comparing the Max Temp vs Latitude within the Southern Hemisphere here...\n",
    "\n",
    "# There is a strong \"positive\" correlation/association between the variables\n",
    "\n",
    "# our equation puts the y value (max-temp) as our dependent variable\n",
    "\n",
    "# whereas the x-value(Latitude) is our independent variable\n",
    "\n",
    "# with that being said we can use said equation to predict Max temp values for latitudes not included here..\n",
    "\n",
    "# specifically within the southern hemisphere here..."
   ]
  },
  {
   "cell_type": "markdown",
   "metadata": {},
   "source": [
    "####  Northern Hemisphere - Humidity (%) vs. Latitude Linear Regression"
   ]
  },
  {
   "cell_type": "code",
   "execution_count": 28,
   "metadata": {},
   "outputs": [
    {
     "name": "stdout",
     "output_type": "stream",
     "text": [
      "The r-squared is: 0.24748222168182613\n"
     ]
    },
    {
     "data": {
      "image/png": "[encoded data removed]",
      "text/plain": [
       "<Figure size 432x288 with 1 Axes>"
      ]
     },
     "metadata": {
      "needs_background": "light"
     },
     "output_type": "display_data"
    },
    {
     "data": {
      "text/plain": [
       "<Figure size 432x288 with 0 Axes>"
      ]
     },
     "metadata": {},
     "output_type": "display_data"
    }
   ],
   "source": [
    "xlbl = \"Lat\"\n",
    "ylbl = \"Humidity\"\n",
    "lblpos = (0,25)\n",
    "plotLinearRegression(northern[xlbl],northern[ylbl],xlbl,ylbl,lblpos,7)\n",
    "plt.savefig(\"../Images/north_humid.png\")"
   ]
  },
  {
   "cell_type": "code",
   "execution_count": 49,
   "metadata": {},
   "outputs": [],
   "source": [
    "# OBSERVATION: We are comparing the Humidity vs Latitude within the Northern Hemisphere here...\n",
    "\n",
    "# There is a weak/moderate positive correlation/association between the variables\n",
    "# The scatterplot is not as clustered as the ones seen before..(temp vs. lat)\n",
    "\n",
    "# our equation puts the y value (Humidity) as our dependent variable\n",
    "\n",
    "# whereas the x-value(latitude) is our independent variable\n",
    "\n",
    "# with that being said we can use said equation to predict Humidity values for latitudes not included here..\n",
    "\n",
    "# specifically within the northern hemisphere here.."
   ]
  },
  {
   "cell_type": "markdown",
   "metadata": {},
   "source": [
    "####  Southern Hemisphere - Humidity (%) vs. Latitude Linear Regression"
   ]
  },
  {
   "cell_type": "code",
   "execution_count": 29,
   "metadata": {},
   "outputs": [
    {
     "name": "stdout",
     "output_type": "stream",
     "text": [
      "The r-squared is: 0.23002279598520087\n"
     ]
    },
    {
     "data": {
      "image/png": "[encoded data removed]",
      "text/plain": [
       "<Figure size 432x288 with 1 Axes>"
      ]
     },
     "metadata": {
      "needs_background": "light"
     },
     "output_type": "display_data"
    },
    {
     "data": {
      "text/plain": [
       "<Figure size 432x288 with 0 Axes>"
      ]
     },
     "metadata": {},
     "output_type": "display_data"
    }
   ],
   "source": [
    "xlbl = \"Lat\"\n",
    "ylbl = \"Humidity\"\n",
    "lblpos = (-50,20)\n",
    "plotLinearRegression(southern[xlbl],southern[ylbl],xlbl,ylbl,lblpos,8)\n",
    "plt.savefig(\"../Images/south_humid.png\")\n",
    "plt.show()"
   ]
  },
  {
   "cell_type": "code",
   "execution_count": null,
   "metadata": {},
   "outputs": [],
   "source": [
    "# OBSERVATION: We are comparing the Humidity vs Latitude within the Southern Hemisphere here...\n",
    "\n",
    "# There is a weak/moderate positive correlation/association between the variables\n",
    "# The scatterplot is not as clustered as the ones seen before..(temp vs. lat)\n",
    "\n",
    "# our equation puts the y value (Humidity) as our dependent variable\n",
    "\n",
    "# whereas the x-value(latitude) is our independent variable\n",
    "\n",
    "# with that being said we can use said equation to predict Humidity values for latitudes not included here..\n",
    "\n",
    "# specifically within the southern hemisphere here.."
   ]
  },
  {
   "cell_type": "markdown",
   "metadata": {},
   "source": [
    "####  Northern Hemisphere - Cloudiness (%) vs. Latitude Linear Regression"
   ]
  },
  {
   "cell_type": "code",
   "execution_count": 30,
   "metadata": {
    "scrolled": true
   },
   "outputs": [
    {
     "name": "stdout",
     "output_type": "stream",
     "text": [
      "The r-squared is: 0.2155005761939537\n"
     ]
    },
    {
     "data": {
      "image/png": "[encoded data removed]",
      "text/plain": [
       "<Figure size 432x288 with 1 Axes>"
      ]
     },
     "metadata": {
      "needs_background": "light"
     },
     "output_type": "display_data"
    },
    {
     "data": {
      "text/plain": [
       "<Figure size 432x288 with 0 Axes>"
      ]
     },
     "metadata": {},
     "output_type": "display_data"
    }
   ],
   "source": [
    "xlbl = \"Lat\"\n",
    "ylbl = \"Cloudiness\"\n",
    "lblpos = (15,32)\n",
    "plotLinearRegression(northern[xlbl],northern[ylbl],xlbl,ylbl,lblpos,9)\n",
    "plt.savefig(\"../Images/north_cloud.png\")\n"
   ]
  },
  {
   "cell_type": "code",
   "execution_count": 50,
   "metadata": {},
   "outputs": [],
   "source": [
    "# OBSERVATION: We are comparing the Cloudiness vs Latitude within the Northern Hemisphere here...\n",
    "\n",
    "# There is a weak positive correlation/association between the variables\n",
    "# The scatterplot is quite sparsed out \n",
    "\n",
    "# our equation puts the y value (Cloudiness) as our dependent variable\n",
    "\n",
    "# whereas the x-value(latitude) is our independent variable\n",
    "\n",
    "# with that being said we can use said equation to predict Cloudiness values for latitudes not included here..\n",
    "\n",
    "# specifically within the northern hemisphere here.."
   ]
  },
  {
   "cell_type": "markdown",
   "metadata": {},
   "source": [
    "####  Southern Hemisphere - Cloudiness (%) vs. Latitude Linear Regression"
   ]
  },
  {
   "cell_type": "code",
   "execution_count": 31,
   "metadata": {},
   "outputs": [
    {
     "name": "stdout",
     "output_type": "stream",
     "text": [
      "The r-squared is: 0.08120051082692357\n"
     ]
    },
    {
     "data": {
      "image/png": "[encoded data removed]",
      "text/plain": [
       "<Figure size 432x288 with 1 Axes>"
      ]
     },
     "metadata": {
      "needs_background": "light"
     },
     "output_type": "display_data"
    },
    {
     "data": {
      "text/plain": [
       "<Figure size 432x288 with 0 Axes>"
      ]
     },
     "metadata": {},
     "output_type": "display_data"
    }
   ],
   "source": [
    "xlbl = \"Lat\"\n",
    "ylbl = \"Cloudiness\"\n",
    "lblpos = (-55,50)\n",
    "plotLinearRegression(southern[xlbl],southern[ylbl],xlbl,ylbl,lblpos,10)\n",
    "plt.savefig(\"../Images/south_cloud.png\")\n",
    "plt.show()"
   ]
  },
  {
   "cell_type": "code",
   "execution_count": null,
   "metadata": {},
   "outputs": [],
   "source": [
    "# OBSERVATION: We are comparing the Cloudiness vs Latitude within the Southern Hemisphere here...\n",
    "\n",
    "# There is a very weak/almost no positive correlation/association between the variables\n",
    "# The scatterplot is quite sparsed out \n",
    "\n",
    "# our equation puts the y value (Cloudiness) as our dependent variable\n",
    "\n",
    "# whereas the x-value(latitude) is our independent variable\n",
    "\n",
    "# with that being said we can use said equation to predict Cloudiness values for latitudes not included here..\n",
    "\n",
    "# specifically within the Southern hemisphere here.."
   ]
  },
  {
   "cell_type": "markdown",
   "metadata": {},
   "source": [
    "####  Northern Hemisphere - Wind Speed (mph) vs. Latitude Linear Regression"
   ]
  },
  {
   "cell_type": "code",
   "execution_count": 32,
   "metadata": {},
   "outputs": [
    {
     "name": "stdout",
     "output_type": "stream",
     "text": [
      "The r-squared is: 0.09594772453807933\n"
     ]
    },
    {
     "data": {
      "image/png": "[encoded data removed]",
      "text/plain": [
       "<Figure size 432x288 with 1 Axes>"
      ]
     },
     "metadata": {
      "needs_background": "light"
     },
     "output_type": "display_data"
    },
    {
     "data": {
      "text/plain": [
       "<Figure size 432x288 with 0 Axes>"
      ]
     },
     "metadata": {},
     "output_type": "display_data"
    }
   ],
   "source": [
    "xlbl = \"Lat\"\n",
    "ylbl = \"Wind Speed\"\n",
    "lblpos = (0,20)\n",
    "plotLinearRegression(northern[xlbl],northern[ylbl],xlbl,ylbl,lblpos,11)\n",
    "plt.savefig(\"../Images/north_wind.png\")\n",
    "plt.show()"
   ]
  },
  {
   "cell_type": "code",
   "execution_count": 51,
   "metadata": {},
   "outputs": [],
   "source": [
    "# OBSERVATION: We are comparing the Wind Speed vs Latitude within the Northern Hemisphere here...\n",
    "\n",
    "# There is a very weak/almost no positive correlation/association between the variables\n",
    "# The scatterplot is quite sparsed out and does not show a directional correlation like before\n",
    "# furthermore, the line of best fit is nearly horizontal indicating almost no directional correlation..\n",
    "\n",
    "# our equation puts the y value (Wind Speed) as our dependent variable\n",
    "\n",
    "# whereas the x-value(latitude) is our independent variable\n",
    "\n",
    "# with that being said we can use said equation to predict Wind Speed values for latitudes not included here..\n",
    "\n",
    "# specifically within the northern hemisphere here.."
   ]
  },
  {
   "cell_type": "markdown",
   "metadata": {},
   "source": [
    "####  Southern Hemisphere - Wind Speed (mph) vs. Latitude Linear Regression"
   ]
  },
  {
   "cell_type": "code",
   "execution_count": 34,
   "metadata": {},
   "outputs": [
    {
     "name": "stdout",
     "output_type": "stream",
     "text": [
      "The r-squared is: -0.17937232580072685\n"
     ]
    },
    {
     "data": {
      "image/png": "[encoded data removed]",
      "text/plain": [
       "<Figure size 432x288 with 1 Axes>"
      ]
     },
     "metadata": {
      "needs_background": "light"
     },
     "output_type": "display_data"
    },
    {
     "data": {
      "text/plain": [
       "<Figure size 432x288 with 0 Axes>"
      ]
     },
     "metadata": {},
     "output_type": "display_data"
    }
   ],
   "source": [
    "xlbl = \"Lat\"\n",
    "ylbl = \"Wind Speed\"\n",
    "lblpos = (-50,15)\n",
    "plotLinearRegression(southern[xlbl],southern[ylbl],xlbl,ylbl,lblpos,12)\n",
    "plt.savefig(\"../Images/south_wind.png\")\n",
    "plt.show()"
   ]
  },
  {
   "cell_type": "code",
   "execution_count": 52,
   "metadata": {},
   "outputs": [],
   "source": [
    "# OBSERVATION: We are comparing the Wind Speed vs Latitude within the Southern Hemisphere here...\n",
    "\n",
    "# There is a weak negative correlation/association between the variables\n",
    "\n",
    "# our equation puts the y value (Wind Speed) as our dependent variable\n",
    "\n",
    "# whereas the x-value(latitude) is our independent variable\n",
    "\n",
    "# with that being said we can use said equation to predict Wind Speed values for latitudes not included here..\n",
    "\n",
    "# specifically within the southern hemisphere here.."
   ]
  },
  {
   "cell_type": "code",
   "execution_count": null,
   "metadata": {},
   "outputs": [],
   "source": []
  },
  {
   "cell_type": "code",
   "execution_count": null,
   "metadata": {},
   "outputs": [],
   "source": []
  }
 ],
 "metadata": {
  "anaconda-cloud": {},
  "kernel_info": {
   "name": "python3"
  },
  "kernelspec": {
   "display_name": "Python 3",
   "language": "python",
   "name": "python3"
  },
  "language_info": {
   "codemirror_mode": {
    "name": "ipython",
    "version": 3
   },
   "file_extension": ".py",
   "mimetype": "text/x-python",
   "name": "python",
   "nbconvert_exporter": "python",
   "pygments_lexer": "ipython3",
   "version": "3.6.12"
  },
  "latex_envs": {
   "LaTeX_envs_menu_present": true,
   "autoclose": false,
   "autocomplete": true,
   "bibliofile": "biblio.bib",
   "cite_by": "apalike",
   "current_citInitial": 1,
   "eqLabelWithNumbers": true,
   "eqNumInitial": 1,
   "hotkeys": {
    "equation": "Ctrl-E",
    "itemize": "Ctrl-I"
   },
   "labels_anchors": false,
   "latex_user_defs": false,
   "report_style_numbering": false,
   "user_envs_cfg": false
  },
  "nteract": {
   "version": "0.12.3"
  }
 },
 "nbformat": 4,
 "nbformat_minor": 2
}
